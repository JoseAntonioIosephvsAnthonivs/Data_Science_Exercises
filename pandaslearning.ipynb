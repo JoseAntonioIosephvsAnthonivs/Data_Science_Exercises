{
 "cells": [
  {
   "cell_type": "code",
   "execution_count": 15,
   "id": "cc4e200b",
   "metadata": {},
   "outputs": [],
   "source": [
    "import numpy as np\n",
    "import pandas as pd\n",
    "from pandas import Series, DataFrame"
   ]
  },
  {
   "cell_type": "markdown",
   "id": "c4684ac4",
   "metadata": {},
   "source": [
    "### Series"
   ]
  },
  {
   "cell_type": "code",
   "execution_count": 2,
   "id": "c847a27c",
   "metadata": {},
   "outputs": [
    {
     "data": {
      "text/plain": [
       "0    4\n",
       "1    7\n",
       "2   -5\n",
       "3    3\n",
       "dtype: int64"
      ]
     },
     "execution_count": 2,
     "metadata": {},
     "output_type": "execute_result"
    }
   ],
   "source": [
    "zzz = pd.Series([4,7,-5,3])\n",
    "zzz"
   ]
  },
  {
   "cell_type": "code",
   "execution_count": 4,
   "id": "ad9d9c81",
   "metadata": {},
   "outputs": [
    {
     "data": {
      "text/plain": [
       "array([ 4,  7, -5,  3], dtype=int64)"
      ]
     },
     "execution_count": 4,
     "metadata": {},
     "output_type": "execute_result"
    }
   ],
   "source": [
    "zzz.values"
   ]
  },
  {
   "cell_type": "code",
   "execution_count": 5,
   "id": "35668863",
   "metadata": {},
   "outputs": [
    {
     "data": {
      "text/plain": [
       "RangeIndex(start=0, stop=4, step=1)"
      ]
     },
     "execution_count": 5,
     "metadata": {},
     "output_type": "execute_result"
    }
   ],
   "source": [
    "zzz.index"
   ]
  },
  {
   "cell_type": "code",
   "execution_count": 8,
   "id": "df88f171",
   "metadata": {},
   "outputs": [
    {
     "data": {
      "text/plain": [
       "a:    1\n",
       "b:    2\n",
       "c:    3\n",
       "d:    4\n",
       "e:    5\n",
       "dtype: int64"
      ]
     },
     "execution_count": 8,
     "metadata": {},
     "output_type": "execute_result"
    }
   ],
   "source": [
    "zzz2 = pd.Series([1,2,3,4,5], index= ['a:', 'b:', 'c:', 'd:','e:'])\n",
    "zzz2"
   ]
  },
  {
   "cell_type": "code",
   "execution_count": 9,
   "id": "f498ec30",
   "metadata": {},
   "outputs": [
    {
     "data": {
      "text/plain": [
       "Index(['a:', 'b:', 'c:', 'd:', 'e:'], dtype='object')"
      ]
     },
     "execution_count": 9,
     "metadata": {},
     "output_type": "execute_result"
    }
   ],
   "source": [
    "zzz2.index"
   ]
  },
  {
   "cell_type": "code",
   "execution_count": 11,
   "id": "50b33f3f",
   "metadata": {},
   "outputs": [
    {
     "data": {
      "text/plain": [
       "array([1, 2, 3, 4, 5], dtype=int64)"
      ]
     },
     "execution_count": 11,
     "metadata": {},
     "output_type": "execute_result"
    }
   ],
   "source": [
    "zzz2.values"
   ]
  },
  {
   "cell_type": "code",
   "execution_count": 12,
   "id": "d1606d86",
   "metadata": {},
   "outputs": [
    {
     "data": {
      "text/plain": [
       "2    1\n",
       "3    2\n",
       "dtype: int64"
      ]
     },
     "execution_count": 12,
     "metadata": {},
     "output_type": "execute_result"
    }
   ],
   "source": [
    "zzz3 = pd.Series([-1,0,1,2])\n",
    "zzz3[zzz3 > 0]"
   ]
  },
  {
   "cell_type": "code",
   "execution_count": 13,
   "id": "024f14f9",
   "metadata": {},
   "outputs": [
    {
     "data": {
      "text/plain": [
       "0    40\n",
       "1    70\n",
       "2   -50\n",
       "3    30\n",
       "dtype: int64"
      ]
     },
     "execution_count": 13,
     "metadata": {},
     "output_type": "execute_result"
    }
   ],
   "source": [
    "zzz * 10"
   ]
  },
  {
   "cell_type": "code",
   "execution_count": 16,
   "id": "b4623bbf",
   "metadata": {},
   "outputs": [
    {
     "data": {
      "text/plain": [
       "a:      2.718282\n",
       "b:      7.389056\n",
       "c:     20.085537\n",
       "d:     54.598150\n",
       "e:    148.413159\n",
       "dtype: float64"
      ]
     },
     "execution_count": 16,
     "metadata": {},
     "output_type": "execute_result"
    }
   ],
   "source": [
    "np.exp(zzz2)"
   ]
  },
  {
   "cell_type": "code",
   "execution_count": 18,
   "id": "313ee8a1",
   "metadata": {},
   "outputs": [
    {
     "data": {
      "text/plain": [
       "False"
      ]
     },
     "execution_count": 18,
     "metadata": {},
     "output_type": "execute_result"
    }
   ],
   "source": [
    "2 in zzz2"
   ]
  },
  {
   "cell_type": "code",
   "execution_count": 24,
   "id": "399e476c",
   "metadata": {},
   "outputs": [
    {
     "data": {
      "text/plain": [
       "Crocodile    10000\n",
       "Snake        12000\n",
       "Lizard       11000\n",
       "dtype: int64"
      ]
     },
     "execution_count": 24,
     "metadata": {},
     "output_type": "execute_result"
    }
   ],
   "source": [
    "zzz_reptiles = {'Crocodile': 10000, 'Snake': 12000, 'Lizard': 11000}\n",
    "series_reptiles = pd.Series(zzz_reptiles)\n",
    "series_reptiles"
   ]
  },
  {
   "cell_type": "code",
   "execution_count": 28,
   "id": "00cddd7a",
   "metadata": {},
   "outputs": [
    {
     "data": {
      "text/plain": [
       "Lizard       11000.0\n",
       "Snake        12000.0\n",
       "crocodile        NaN\n",
       "dtype: float64"
      ]
     },
     "execution_count": 28,
     "metadata": {},
     "output_type": "execute_result"
    }
   ],
   "source": [
    "reptiles = ['Lizard','Snake','crocodile']\n",
    "rep_series = pd.Series(zzz_reptiles, index= reptiles)\n",
    "rep_series"
   ]
  },
  {
   "cell_type": "code",
   "execution_count": 29,
   "id": "d19154ec",
   "metadata": {},
   "outputs": [
    {
     "data": {
      "text/plain": [
       "Lizard       False\n",
       "Snake        False\n",
       "crocodile     True\n",
       "dtype: bool"
      ]
     },
     "execution_count": 29,
     "metadata": {},
     "output_type": "execute_result"
    }
   ],
   "source": [
    "pd.isnull(rep_series)"
   ]
  },
  {
   "cell_type": "code",
   "execution_count": 30,
   "id": "a507b8c1",
   "metadata": {},
   "outputs": [
    {
     "data": {
      "text/plain": [
       "Lizard        True\n",
       "Snake         True\n",
       "crocodile    False\n",
       "dtype: bool"
      ]
     },
     "execution_count": 30,
     "metadata": {},
     "output_type": "execute_result"
    }
   ],
   "source": [
    "pd.notnull(rep_series)"
   ]
  },
  {
   "cell_type": "code",
   "execution_count": 33,
   "id": "e829bc06",
   "metadata": {},
   "outputs": [
    {
     "data": {
      "text/plain": [
       "Lizard       11000.0\n",
       "Snake        12000.0\n",
       "crocodile        NaN\n",
       "Name: sqvamatas, dtype: float64"
      ]
     },
     "execution_count": 33,
     "metadata": {},
     "output_type": "execute_result"
    }
   ],
   "source": [
    "rep_series.name = 'sqvamatas'\n",
    "rep_series"
   ]
  },
  {
   "cell_type": "code",
   "execution_count": 38,
   "id": "c9c42c60",
   "metadata": {},
   "outputs": [
    {
     "name": "stdout",
     "output_type": "stream",
     "text": [
      "z0    4\n",
      "z1    7\n",
      "z2   -5\n",
      "z3    3\n",
      "dtype: int64\n"
     ]
    }
   ],
   "source": [
    "zzz.index=['z0','z1', 'z2', 'z3']\n",
    "print(zzz)\n"
   ]
  },
  {
   "cell_type": "code",
   "execution_count": 45,
   "id": "416cc49e",
   "metadata": {},
   "outputs": [],
   "source": [
    "data = {'name':['Crocodile', 'Snake', 'Axolote', 'Lizard','Ophiophagus Hannah', 'Cameleon'],\n",
    "        'price':[100,110,240,300,250,200],\n",
    "        'numbers_live':[20,30,10,20,30,15]}"
   ]
  },
  {
   "cell_type": "code",
   "execution_count": 46,
   "id": "a7529365",
   "metadata": {},
   "outputs": [
    {
     "data": {
      "text/html": [
       "<div>\n",
       "<style scoped>\n",
       "    .dataframe tbody tr th:only-of-type {\n",
       "        vertical-align: middle;\n",
       "    }\n",
       "\n",
       "    .dataframe tbody tr th {\n",
       "        vertical-align: top;\n",
       "    }\n",
       "\n",
       "    .dataframe thead th {\n",
       "        text-align: right;\n",
       "    }\n",
       "</style>\n",
       "<table border=\"1\" class=\"dataframe\">\n",
       "  <thead>\n",
       "    <tr style=\"text-align: right;\">\n",
       "      <th></th>\n",
       "      <th>name</th>\n",
       "      <th>price</th>\n",
       "      <th>numbers_live</th>\n",
       "    </tr>\n",
       "  </thead>\n",
       "  <tbody>\n",
       "    <tr>\n",
       "      <th>0</th>\n",
       "      <td>Crocodile</td>\n",
       "      <td>100</td>\n",
       "      <td>20</td>\n",
       "    </tr>\n",
       "    <tr>\n",
       "      <th>1</th>\n",
       "      <td>Snake</td>\n",
       "      <td>110</td>\n",
       "      <td>30</td>\n",
       "    </tr>\n",
       "    <tr>\n",
       "      <th>2</th>\n",
       "      <td>Axolote</td>\n",
       "      <td>240</td>\n",
       "      <td>10</td>\n",
       "    </tr>\n",
       "    <tr>\n",
       "      <th>3</th>\n",
       "      <td>Lizard</td>\n",
       "      <td>300</td>\n",
       "      <td>20</td>\n",
       "    </tr>\n",
       "    <tr>\n",
       "      <th>4</th>\n",
       "      <td>Ophiophagus Hannah</td>\n",
       "      <td>250</td>\n",
       "      <td>30</td>\n",
       "    </tr>\n",
       "    <tr>\n",
       "      <th>5</th>\n",
       "      <td>Cameleon</td>\n",
       "      <td>200</td>\n",
       "      <td>15</td>\n",
       "    </tr>\n",
       "  </tbody>\n",
       "</table>\n",
       "</div>"
      ],
      "text/plain": [
       "                 name  price  numbers_live\n",
       "0           Crocodile    100            20\n",
       "1               Snake    110            30\n",
       "2             Axolote    240            10\n",
       "3              Lizard    300            20\n",
       "4  Ophiophagus Hannah    250            30\n",
       "5            Cameleon    200            15"
      ]
     },
     "execution_count": 46,
     "metadata": {},
     "output_type": "execute_result"
    }
   ],
   "source": [
    "frame = pd.DataFrame(data)\n",
    "frame"
   ]
  },
  {
   "cell_type": "code",
   "execution_count": 48,
   "id": "c96ae0dd",
   "metadata": {},
   "outputs": [
    {
     "data": {
      "text/html": [
       "<div>\n",
       "<style scoped>\n",
       "    .dataframe tbody tr th:only-of-type {\n",
       "        vertical-align: middle;\n",
       "    }\n",
       "\n",
       "    .dataframe tbody tr th {\n",
       "        vertical-align: top;\n",
       "    }\n",
       "\n",
       "    .dataframe thead th {\n",
       "        text-align: right;\n",
       "    }\n",
       "</style>\n",
       "<table border=\"1\" class=\"dataframe\">\n",
       "  <thead>\n",
       "    <tr style=\"text-align: right;\">\n",
       "      <th></th>\n",
       "      <th>name</th>\n",
       "      <th>price</th>\n",
       "      <th>numbers_live</th>\n",
       "    </tr>\n",
       "  </thead>\n",
       "  <tbody>\n",
       "    <tr>\n",
       "      <th>0</th>\n",
       "      <td>Crocodile</td>\n",
       "      <td>100</td>\n",
       "      <td>20</td>\n",
       "    </tr>\n",
       "    <tr>\n",
       "      <th>1</th>\n",
       "      <td>Snake</td>\n",
       "      <td>110</td>\n",
       "      <td>30</td>\n",
       "    </tr>\n",
       "    <tr>\n",
       "      <th>2</th>\n",
       "      <td>Axolote</td>\n",
       "      <td>240</td>\n",
       "      <td>10</td>\n",
       "    </tr>\n",
       "    <tr>\n",
       "      <th>3</th>\n",
       "      <td>Lizard</td>\n",
       "      <td>300</td>\n",
       "      <td>20</td>\n",
       "    </tr>\n",
       "    <tr>\n",
       "      <th>4</th>\n",
       "      <td>Ophiophagus Hannah</td>\n",
       "      <td>250</td>\n",
       "      <td>30</td>\n",
       "    </tr>\n",
       "  </tbody>\n",
       "</table>\n",
       "</div>"
      ],
      "text/plain": [
       "                 name  price  numbers_live\n",
       "0           Crocodile    100            20\n",
       "1               Snake    110            30\n",
       "2             Axolote    240            10\n",
       "3              Lizard    300            20\n",
       "4  Ophiophagus Hannah    250            30"
      ]
     },
     "execution_count": 48,
     "metadata": {},
     "output_type": "execute_result"
    }
   ],
   "source": [
    "frame.head()"
   ]
  },
  {
   "cell_type": "code",
   "execution_count": 49,
   "id": "e81caf25",
   "metadata": {},
   "outputs": [
    {
     "data": {
      "text/html": [
       "<div>\n",
       "<style scoped>\n",
       "    .dataframe tbody tr th:only-of-type {\n",
       "        vertical-align: middle;\n",
       "    }\n",
       "\n",
       "    .dataframe tbody tr th {\n",
       "        vertical-align: top;\n",
       "    }\n",
       "\n",
       "    .dataframe thead th {\n",
       "        text-align: right;\n",
       "    }\n",
       "</style>\n",
       "<table border=\"1\" class=\"dataframe\">\n",
       "  <thead>\n",
       "    <tr style=\"text-align: right;\">\n",
       "      <th></th>\n",
       "      <th>name</th>\n",
       "      <th>price</th>\n",
       "      <th>numbers_live</th>\n",
       "    </tr>\n",
       "  </thead>\n",
       "  <tbody>\n",
       "    <tr>\n",
       "      <th>1</th>\n",
       "      <td>Snake</td>\n",
       "      <td>110</td>\n",
       "      <td>30</td>\n",
       "    </tr>\n",
       "    <tr>\n",
       "      <th>2</th>\n",
       "      <td>Axolote</td>\n",
       "      <td>240</td>\n",
       "      <td>10</td>\n",
       "    </tr>\n",
       "    <tr>\n",
       "      <th>3</th>\n",
       "      <td>Lizard</td>\n",
       "      <td>300</td>\n",
       "      <td>20</td>\n",
       "    </tr>\n",
       "    <tr>\n",
       "      <th>4</th>\n",
       "      <td>Ophiophagus Hannah</td>\n",
       "      <td>250</td>\n",
       "      <td>30</td>\n",
       "    </tr>\n",
       "    <tr>\n",
       "      <th>5</th>\n",
       "      <td>Cameleon</td>\n",
       "      <td>200</td>\n",
       "      <td>15</td>\n",
       "    </tr>\n",
       "  </tbody>\n",
       "</table>\n",
       "</div>"
      ],
      "text/plain": [
       "                 name  price  numbers_live\n",
       "1               Snake    110            30\n",
       "2             Axolote    240            10\n",
       "3              Lizard    300            20\n",
       "4  Ophiophagus Hannah    250            30\n",
       "5            Cameleon    200            15"
      ]
     },
     "execution_count": 49,
     "metadata": {},
     "output_type": "execute_result"
    }
   ],
   "source": [
    "frame.tail()"
   ]
  },
  {
   "cell_type": "code",
   "execution_count": 54,
   "id": "ffbf98fd",
   "metadata": {},
   "outputs": [
    {
     "data": {
      "text/html": [
       "<div>\n",
       "<style scoped>\n",
       "    .dataframe tbody tr th:only-of-type {\n",
       "        vertical-align: middle;\n",
       "    }\n",
       "\n",
       "    .dataframe tbody tr th {\n",
       "        vertical-align: top;\n",
       "    }\n",
       "\n",
       "    .dataframe thead th {\n",
       "        text-align: right;\n",
       "    }\n",
       "</style>\n",
       "<table border=\"1\" class=\"dataframe\">\n",
       "  <thead>\n",
       "    <tr style=\"text-align: right;\">\n",
       "      <th></th>\n",
       "      <th>name</th>\n",
       "      <th>price</th>\n",
       "      <th>numbers_live</th>\n",
       "    </tr>\n",
       "  </thead>\n",
       "  <tbody>\n",
       "    <tr>\n",
       "      <th>0</th>\n",
       "      <td>Crocodile</td>\n",
       "      <td>100</td>\n",
       "      <td>20</td>\n",
       "    </tr>\n",
       "    <tr>\n",
       "      <th>1</th>\n",
       "      <td>Snake</td>\n",
       "      <td>110</td>\n",
       "      <td>30</td>\n",
       "    </tr>\n",
       "    <tr>\n",
       "      <th>2</th>\n",
       "      <td>Axolote</td>\n",
       "      <td>240</td>\n",
       "      <td>10</td>\n",
       "    </tr>\n",
       "    <tr>\n",
       "      <th>3</th>\n",
       "      <td>Lizard</td>\n",
       "      <td>300</td>\n",
       "      <td>20</td>\n",
       "    </tr>\n",
       "    <tr>\n",
       "      <th>4</th>\n",
       "      <td>Ophiophagus Hannah</td>\n",
       "      <td>250</td>\n",
       "      <td>30</td>\n",
       "    </tr>\n",
       "    <tr>\n",
       "      <th>5</th>\n",
       "      <td>Cameleon</td>\n",
       "      <td>200</td>\n",
       "      <td>15</td>\n",
       "    </tr>\n",
       "  </tbody>\n",
       "</table>\n",
       "</div>"
      ],
      "text/plain": [
       "                 name  price  numbers_live\n",
       "0           Crocodile    100            20\n",
       "1               Snake    110            30\n",
       "2             Axolote    240            10\n",
       "3              Lizard    300            20\n",
       "4  Ophiophagus Hannah    250            30\n",
       "5            Cameleon    200            15"
      ]
     },
     "execution_count": 54,
     "metadata": {},
     "output_type": "execute_result"
    }
   ],
   "source": [
    "pd.DataFrame(data,columns=['name', 'numbers_live','price'])\n",
    "frame"
   ]
  },
  {
   "cell_type": "code",
   "execution_count": 56,
   "id": "90440cf3",
   "metadata": {},
   "outputs": [
    {
     "data": {
      "text/html": [
       "<div>\n",
       "<style scoped>\n",
       "    .dataframe tbody tr th:only-of-type {\n",
       "        vertical-align: middle;\n",
       "    }\n",
       "\n",
       "    .dataframe tbody tr th {\n",
       "        vertical-align: top;\n",
       "    }\n",
       "\n",
       "    .dataframe thead th {\n",
       "        text-align: right;\n",
       "    }\n",
       "</style>\n",
       "<table border=\"1\" class=\"dataframe\">\n",
       "  <thead>\n",
       "    <tr style=\"text-align: right;\">\n",
       "      <th></th>\n",
       "      <th>name</th>\n",
       "      <th>numbers_live</th>\n",
       "      <th>price</th>\n",
       "    </tr>\n",
       "  </thead>\n",
       "  <tbody>\n",
       "    <tr>\n",
       "      <th>one</th>\n",
       "      <td>Crocodile</td>\n",
       "      <td>20</td>\n",
       "      <td>100</td>\n",
       "    </tr>\n",
       "    <tr>\n",
       "      <th>two</th>\n",
       "      <td>Snake</td>\n",
       "      <td>30</td>\n",
       "      <td>110</td>\n",
       "    </tr>\n",
       "    <tr>\n",
       "      <th>three</th>\n",
       "      <td>Axolote</td>\n",
       "      <td>10</td>\n",
       "      <td>240</td>\n",
       "    </tr>\n",
       "    <tr>\n",
       "      <th>four</th>\n",
       "      <td>Lizard</td>\n",
       "      <td>20</td>\n",
       "      <td>300</td>\n",
       "    </tr>\n",
       "    <tr>\n",
       "      <th>five</th>\n",
       "      <td>Ophiophagus Hannah</td>\n",
       "      <td>30</td>\n",
       "      <td>250</td>\n",
       "    </tr>\n",
       "    <tr>\n",
       "      <th>six</th>\n",
       "      <td>Cameleon</td>\n",
       "      <td>15</td>\n",
       "      <td>200</td>\n",
       "    </tr>\n",
       "  </tbody>\n",
       "</table>\n",
       "</div>"
      ],
      "text/plain": [
       "                     name  numbers_live  price\n",
       "one             Crocodile            20    100\n",
       "two                 Snake            30    110\n",
       "three             Axolote            10    240\n",
       "four               Lizard            20    300\n",
       "five   Ophiophagus Hannah            30    250\n",
       "six              Cameleon            15    200"
      ]
     },
     "execution_count": 56,
     "metadata": {},
     "output_type": "execute_result"
    }
   ],
   "source": [
    "frame2 = pd.DataFrame(data, columns=['name', 'numbers_live','price'],\n",
    "index=['one', 'two', 'three', 'four',\n",
    "'five', 'six'])\n",
    "\n",
    "frame2"
   ]
  },
  {
   "cell_type": "code",
   "execution_count": 57,
   "id": "d44eb6a9",
   "metadata": {},
   "outputs": [
    {
     "data": {
      "text/plain": [
       "Index(['name', 'numbers_live', 'price'], dtype='object')"
      ]
     },
     "execution_count": 57,
     "metadata": {},
     "output_type": "execute_result"
    }
   ],
   "source": [
    "frame2.columns"
   ]
  },
  {
   "cell_type": "code",
   "execution_count": 62,
   "id": "f033d74d",
   "metadata": {},
   "outputs": [
    {
     "data": {
      "text/html": [
       "<div>\n",
       "<style scoped>\n",
       "    .dataframe tbody tr th:only-of-type {\n",
       "        vertical-align: middle;\n",
       "    }\n",
       "\n",
       "    .dataframe tbody tr th {\n",
       "        vertical-align: top;\n",
       "    }\n",
       "\n",
       "    .dataframe thead th {\n",
       "        text-align: right;\n",
       "    }\n",
       "</style>\n",
       "<table border=\"1\" class=\"dataframe\">\n",
       "  <thead>\n",
       "    <tr style=\"text-align: right;\">\n",
       "      <th></th>\n",
       "      <th>name</th>\n",
       "      <th>numbers_live</th>\n",
       "      <th>price</th>\n",
       "      <th>debt</th>\n",
       "    </tr>\n",
       "  </thead>\n",
       "  <tbody>\n",
       "    <tr>\n",
       "      <th>one</th>\n",
       "      <td>Crocodile</td>\n",
       "      <td>20</td>\n",
       "      <td>100</td>\n",
       "      <td>15</td>\n",
       "    </tr>\n",
       "    <tr>\n",
       "      <th>two</th>\n",
       "      <td>Snake</td>\n",
       "      <td>30</td>\n",
       "      <td>110</td>\n",
       "      <td>16</td>\n",
       "    </tr>\n",
       "    <tr>\n",
       "      <th>three</th>\n",
       "      <td>Axolote</td>\n",
       "      <td>10</td>\n",
       "      <td>240</td>\n",
       "      <td>17</td>\n",
       "    </tr>\n",
       "    <tr>\n",
       "      <th>four</th>\n",
       "      <td>Lizard</td>\n",
       "      <td>20</td>\n",
       "      <td>300</td>\n",
       "      <td>18</td>\n",
       "    </tr>\n",
       "    <tr>\n",
       "      <th>five</th>\n",
       "      <td>Ophiophagus Hannah</td>\n",
       "      <td>30</td>\n",
       "      <td>250</td>\n",
       "      <td>19</td>\n",
       "    </tr>\n",
       "    <tr>\n",
       "      <th>six</th>\n",
       "      <td>Cameleon</td>\n",
       "      <td>15</td>\n",
       "      <td>200</td>\n",
       "      <td>20</td>\n",
       "    </tr>\n",
       "  </tbody>\n",
       "</table>\n",
       "</div>"
      ],
      "text/plain": [
       "                     name  numbers_live  price  debt\n",
       "one             Crocodile            20    100    15\n",
       "two                 Snake            30    110    16\n",
       "three             Axolote            10    240    17\n",
       "four               Lizard            20    300    18\n",
       "five   Ophiophagus Hannah            30    250    19\n",
       "six              Cameleon            15    200    20"
      ]
     },
     "execution_count": 62,
     "metadata": {},
     "output_type": "execute_result"
    }
   ],
   "source": [
    "frame2['debt']= 15,16,17,18,19,20\n",
    "frame2"
   ]
  },
  {
   "cell_type": "code",
   "execution_count": 64,
   "id": "16fb34a5",
   "metadata": {},
   "outputs": [
    {
     "data": {
      "text/html": [
       "<div>\n",
       "<style scoped>\n",
       "    .dataframe tbody tr th:only-of-type {\n",
       "        vertical-align: middle;\n",
       "    }\n",
       "\n",
       "    .dataframe tbody tr th {\n",
       "        vertical-align: top;\n",
       "    }\n",
       "\n",
       "    .dataframe thead th {\n",
       "        text-align: right;\n",
       "    }\n",
       "</style>\n",
       "<table border=\"1\" class=\"dataframe\">\n",
       "  <thead>\n",
       "    <tr style=\"text-align: right;\">\n",
       "      <th></th>\n",
       "      <th>name</th>\n",
       "      <th>numbers_live</th>\n",
       "      <th>price</th>\n",
       "      <th>debt</th>\n",
       "      <th>zzz</th>\n",
       "      <th>scale</th>\n",
       "    </tr>\n",
       "  </thead>\n",
       "  <tbody>\n",
       "    <tr>\n",
       "      <th>one</th>\n",
       "      <td>Crocodile</td>\n",
       "      <td>20</td>\n",
       "      <td>100</td>\n",
       "      <td>15</td>\n",
       "      <td>0</td>\n",
       "      <td>0</td>\n",
       "    </tr>\n",
       "    <tr>\n",
       "      <th>two</th>\n",
       "      <td>Snake</td>\n",
       "      <td>30</td>\n",
       "      <td>110</td>\n",
       "      <td>16</td>\n",
       "      <td>1</td>\n",
       "      <td>1</td>\n",
       "    </tr>\n",
       "    <tr>\n",
       "      <th>three</th>\n",
       "      <td>Axolote</td>\n",
       "      <td>10</td>\n",
       "      <td>240</td>\n",
       "      <td>17</td>\n",
       "      <td>2</td>\n",
       "      <td>2</td>\n",
       "    </tr>\n",
       "    <tr>\n",
       "      <th>four</th>\n",
       "      <td>Lizard</td>\n",
       "      <td>20</td>\n",
       "      <td>300</td>\n",
       "      <td>18</td>\n",
       "      <td>3</td>\n",
       "      <td>3</td>\n",
       "    </tr>\n",
       "    <tr>\n",
       "      <th>five</th>\n",
       "      <td>Ophiophagus Hannah</td>\n",
       "      <td>30</td>\n",
       "      <td>250</td>\n",
       "      <td>19</td>\n",
       "      <td>4</td>\n",
       "      <td>4</td>\n",
       "    </tr>\n",
       "    <tr>\n",
       "      <th>six</th>\n",
       "      <td>Cameleon</td>\n",
       "      <td>15</td>\n",
       "      <td>200</td>\n",
       "      <td>20</td>\n",
       "      <td>5</td>\n",
       "      <td>5</td>\n",
       "    </tr>\n",
       "  </tbody>\n",
       "</table>\n",
       "</div>"
      ],
      "text/plain": [
       "                     name  numbers_live  price  debt  zzz  scale\n",
       "one             Crocodile            20    100    15    0      0\n",
       "two                 Snake            30    110    16    1      1\n",
       "three             Axolote            10    240    17    2      2\n",
       "four               Lizard            20    300    18    3      3\n",
       "five   Ophiophagus Hannah            30    250    19    4      4\n",
       "six              Cameleon            15    200    20    5      5"
      ]
     },
     "execution_count": 64,
     "metadata": {},
     "output_type": "execute_result"
    }
   ],
   "source": [
    "frame2['scale'] = np.arange(6)\n",
    "frame2"
   ]
  },
  {
   "cell_type": "code",
   "execution_count": 58,
   "id": "3b49a24b",
   "metadata": {},
   "outputs": [
    {
     "data": {
      "text/plain": [
       "one               Crocodile\n",
       "two                   Snake\n",
       "three               Axolote\n",
       "four                 Lizard\n",
       "five     Ophiophagus Hannah\n",
       "six                Cameleon\n",
       "Name: name, dtype: object"
      ]
     },
     "execution_count": 58,
     "metadata": {},
     "output_type": "execute_result"
    }
   ],
   "source": [
    "frame2['name']"
   ]
  },
  {
   "cell_type": "code",
   "execution_count": 65,
   "id": "a11d2c99",
   "metadata": {},
   "outputs": [
    {
     "data": {
      "text/html": [
       "<div>\n",
       "<style scoped>\n",
       "    .dataframe tbody tr th:only-of-type {\n",
       "        vertical-align: middle;\n",
       "    }\n",
       "\n",
       "    .dataframe tbody tr th {\n",
       "        vertical-align: top;\n",
       "    }\n",
       "\n",
       "    .dataframe thead th {\n",
       "        text-align: right;\n",
       "    }\n",
       "</style>\n",
       "<table border=\"1\" class=\"dataframe\">\n",
       "  <thead>\n",
       "    <tr style=\"text-align: right;\">\n",
       "      <th></th>\n",
       "      <th>name</th>\n",
       "      <th>numbers_live</th>\n",
       "      <th>price</th>\n",
       "      <th>debt</th>\n",
       "      <th>zzz</th>\n",
       "      <th>scale</th>\n",
       "    </tr>\n",
       "  </thead>\n",
       "  <tbody>\n",
       "    <tr>\n",
       "      <th>one</th>\n",
       "      <td>Crocodile</td>\n",
       "      <td>20</td>\n",
       "      <td>100</td>\n",
       "      <td>-1.0</td>\n",
       "      <td>0</td>\n",
       "      <td>0</td>\n",
       "    </tr>\n",
       "    <tr>\n",
       "      <th>two</th>\n",
       "      <td>Snake</td>\n",
       "      <td>30</td>\n",
       "      <td>110</td>\n",
       "      <td>-2.0</td>\n",
       "      <td>1</td>\n",
       "      <td>1</td>\n",
       "    </tr>\n",
       "    <tr>\n",
       "      <th>three</th>\n",
       "      <td>Axolote</td>\n",
       "      <td>10</td>\n",
       "      <td>240</td>\n",
       "      <td>-3.0</td>\n",
       "      <td>2</td>\n",
       "      <td>2</td>\n",
       "    </tr>\n",
       "    <tr>\n",
       "      <th>four</th>\n",
       "      <td>Lizard</td>\n",
       "      <td>20</td>\n",
       "      <td>300</td>\n",
       "      <td>NaN</td>\n",
       "      <td>3</td>\n",
       "      <td>3</td>\n",
       "    </tr>\n",
       "    <tr>\n",
       "      <th>five</th>\n",
       "      <td>Ophiophagus Hannah</td>\n",
       "      <td>30</td>\n",
       "      <td>250</td>\n",
       "      <td>NaN</td>\n",
       "      <td>4</td>\n",
       "      <td>4</td>\n",
       "    </tr>\n",
       "    <tr>\n",
       "      <th>six</th>\n",
       "      <td>Cameleon</td>\n",
       "      <td>15</td>\n",
       "      <td>200</td>\n",
       "      <td>NaN</td>\n",
       "      <td>5</td>\n",
       "      <td>5</td>\n",
       "    </tr>\n",
       "  </tbody>\n",
       "</table>\n",
       "</div>"
      ],
      "text/plain": [
       "                     name  numbers_live  price  debt  zzz  scale\n",
       "one             Crocodile            20    100  -1.0    0      0\n",
       "two                 Snake            30    110  -2.0    1      1\n",
       "three             Axolote            10    240  -3.0    2      2\n",
       "four               Lizard            20    300   NaN    3      3\n",
       "five   Ophiophagus Hannah            30    250   NaN    4      4\n",
       "six              Cameleon            15    200   NaN    5      5"
      ]
     },
     "execution_count": 65,
     "metadata": {},
     "output_type": "execute_result"
    }
   ],
   "source": [
    "val = pd.Series([-3,-2,-1], index=['three','two','one'])\n",
    "frame2['debt'] = val\n",
    "frame2"
   ]
  },
  {
   "cell_type": "code",
   "execution_count": 66,
   "id": "2642f9ed",
   "metadata": {},
   "outputs": [
    {
     "data": {
      "text/html": [
       "<div>\n",
       "<style scoped>\n",
       "    .dataframe tbody tr th:only-of-type {\n",
       "        vertical-align: middle;\n",
       "    }\n",
       "\n",
       "    .dataframe tbody tr th {\n",
       "        vertical-align: top;\n",
       "    }\n",
       "\n",
       "    .dataframe thead th {\n",
       "        text-align: right;\n",
       "    }\n",
       "</style>\n",
       "<table border=\"1\" class=\"dataframe\">\n",
       "  <thead>\n",
       "    <tr style=\"text-align: right;\">\n",
       "      <th></th>\n",
       "      <th>name</th>\n",
       "      <th>numbers_live</th>\n",
       "      <th>price</th>\n",
       "      <th>debt</th>\n",
       "      <th>scale</th>\n",
       "    </tr>\n",
       "  </thead>\n",
       "  <tbody>\n",
       "    <tr>\n",
       "      <th>one</th>\n",
       "      <td>Crocodile</td>\n",
       "      <td>20</td>\n",
       "      <td>100</td>\n",
       "      <td>-1.0</td>\n",
       "      <td>0</td>\n",
       "    </tr>\n",
       "    <tr>\n",
       "      <th>two</th>\n",
       "      <td>Snake</td>\n",
       "      <td>30</td>\n",
       "      <td>110</td>\n",
       "      <td>-2.0</td>\n",
       "      <td>1</td>\n",
       "    </tr>\n",
       "    <tr>\n",
       "      <th>three</th>\n",
       "      <td>Axolote</td>\n",
       "      <td>10</td>\n",
       "      <td>240</td>\n",
       "      <td>-3.0</td>\n",
       "      <td>2</td>\n",
       "    </tr>\n",
       "    <tr>\n",
       "      <th>four</th>\n",
       "      <td>Lizard</td>\n",
       "      <td>20</td>\n",
       "      <td>300</td>\n",
       "      <td>NaN</td>\n",
       "      <td>3</td>\n",
       "    </tr>\n",
       "    <tr>\n",
       "      <th>five</th>\n",
       "      <td>Ophiophagus Hannah</td>\n",
       "      <td>30</td>\n",
       "      <td>250</td>\n",
       "      <td>NaN</td>\n",
       "      <td>4</td>\n",
       "    </tr>\n",
       "    <tr>\n",
       "      <th>six</th>\n",
       "      <td>Cameleon</td>\n",
       "      <td>15</td>\n",
       "      <td>200</td>\n",
       "      <td>NaN</td>\n",
       "      <td>5</td>\n",
       "    </tr>\n",
       "  </tbody>\n",
       "</table>\n",
       "</div>"
      ],
      "text/plain": [
       "                     name  numbers_live  price  debt  scale\n",
       "one             Crocodile            20    100  -1.0      0\n",
       "two                 Snake            30    110  -2.0      1\n",
       "three             Axolote            10    240  -3.0      2\n",
       "four               Lizard            20    300   NaN      3\n",
       "five   Ophiophagus Hannah            30    250   NaN      4\n",
       "six              Cameleon            15    200   NaN      5"
      ]
     },
     "execution_count": 66,
     "metadata": {},
     "output_type": "execute_result"
    }
   ],
   "source": [
    "del frame2['zzz']\n",
    "frame2"
   ]
  },
  {
   "cell_type": "code",
   "execution_count": 68,
   "id": "2d9c61fe",
   "metadata": {},
   "outputs": [
    {
     "data": {
      "text/html": [
       "<div>\n",
       "<style scoped>\n",
       "    .dataframe tbody tr th:only-of-type {\n",
       "        vertical-align: middle;\n",
       "    }\n",
       "\n",
       "    .dataframe tbody tr th {\n",
       "        vertical-align: top;\n",
       "    }\n",
       "\n",
       "    .dataframe thead th {\n",
       "        text-align: right;\n",
       "    }\n",
       "</style>\n",
       "<table border=\"1\" class=\"dataframe\">\n",
       "  <thead>\n",
       "    <tr style=\"text-align: right;\">\n",
       "      <th></th>\n",
       "      <th>one</th>\n",
       "      <th>two</th>\n",
       "      <th>three</th>\n",
       "      <th>four</th>\n",
       "      <th>five</th>\n",
       "      <th>six</th>\n",
       "    </tr>\n",
       "  </thead>\n",
       "  <tbody>\n",
       "    <tr>\n",
       "      <th>name</th>\n",
       "      <td>Crocodile</td>\n",
       "      <td>Snake</td>\n",
       "      <td>Axolote</td>\n",
       "      <td>Lizard</td>\n",
       "      <td>Ophiophagus Hannah</td>\n",
       "      <td>Cameleon</td>\n",
       "    </tr>\n",
       "    <tr>\n",
       "      <th>numbers_live</th>\n",
       "      <td>20</td>\n",
       "      <td>30</td>\n",
       "      <td>10</td>\n",
       "      <td>20</td>\n",
       "      <td>30</td>\n",
       "      <td>15</td>\n",
       "    </tr>\n",
       "    <tr>\n",
       "      <th>price</th>\n",
       "      <td>100</td>\n",
       "      <td>110</td>\n",
       "      <td>240</td>\n",
       "      <td>300</td>\n",
       "      <td>250</td>\n",
       "      <td>200</td>\n",
       "    </tr>\n",
       "    <tr>\n",
       "      <th>debt</th>\n",
       "      <td>-1.0</td>\n",
       "      <td>-2.0</td>\n",
       "      <td>-3.0</td>\n",
       "      <td>NaN</td>\n",
       "      <td>NaN</td>\n",
       "      <td>NaN</td>\n",
       "    </tr>\n",
       "    <tr>\n",
       "      <th>scale</th>\n",
       "      <td>0</td>\n",
       "      <td>1</td>\n",
       "      <td>2</td>\n",
       "      <td>3</td>\n",
       "      <td>4</td>\n",
       "      <td>5</td>\n",
       "    </tr>\n",
       "  </tbody>\n",
       "</table>\n",
       "</div>"
      ],
      "text/plain": [
       "                    one    two    three    four                five       six\n",
       "name          Crocodile  Snake  Axolote  Lizard  Ophiophagus Hannah  Cameleon\n",
       "numbers_live         20     30       10      20                  30        15\n",
       "price               100    110      240     300                 250       200\n",
       "debt               -1.0   -2.0     -3.0     NaN                 NaN       NaN\n",
       "scale                 0      1        2       3                   4         5"
      ]
     },
     "execution_count": 68,
     "metadata": {},
     "output_type": "execute_result"
    }
   ],
   "source": [
    "frame3 = frame2 \n",
    "frame3.T"
   ]
  },
  {
   "cell_type": "code",
   "execution_count": null,
   "id": "f3edb00e",
   "metadata": {},
   "outputs": [],
   "source": []
  }
 ],
 "metadata": {
  "kernelspec": {
   "display_name": "Python 3 (ipykernel)",
   "language": "python",
   "name": "python3"
  },
  "language_info": {
   "codemirror_mode": {
    "name": "ipython",
    "version": 3
   },
   "file_extension": ".py",
   "mimetype": "text/x-python",
   "name": "python",
   "nbconvert_exporter": "python",
   "pygments_lexer": "ipython3",
   "version": "3.9.7"
  }
 },
 "nbformat": 4,
 "nbformat_minor": 5
}
