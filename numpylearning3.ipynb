{
 "cells": [
  {
   "cell_type": "code",
   "execution_count": 7,
   "id": "1dffc47f",
   "metadata": {},
   "outputs": [],
   "source": [
    "import numpy as np\n",
    "import matplotlib.pyplot as plt"
   ]
  },
  {
   "cell_type": "code",
   "execution_count": 2,
   "id": "8dcd81f0",
   "metadata": {},
   "outputs": [],
   "source": [
    "points = np.arange(-5,5,0.01)\n",
    "xs, ys = np.meshgrid(points, points)"
   ]
  },
  {
   "cell_type": "code",
   "execution_count": 3,
   "id": "e2c1342a",
   "metadata": {},
   "outputs": [
    {
     "data": {
      "text/plain": [
       "array([[-5.  , -5.  , -5.  , ..., -5.  , -5.  , -5.  ],\n",
       "       [-4.99, -4.99, -4.99, ..., -4.99, -4.99, -4.99],\n",
       "       [-4.98, -4.98, -4.98, ..., -4.98, -4.98, -4.98],\n",
       "       ...,\n",
       "       [ 4.97,  4.97,  4.97, ...,  4.97,  4.97,  4.97],\n",
       "       [ 4.98,  4.98,  4.98, ...,  4.98,  4.98,  4.98],\n",
       "       [ 4.99,  4.99,  4.99, ...,  4.99,  4.99,  4.99]])"
      ]
     },
     "execution_count": 3,
     "metadata": {},
     "output_type": "execute_result"
    }
   ],
   "source": [
    "ys"
   ]
  },
  {
   "cell_type": "code",
   "execution_count": 4,
   "id": "436fc6a4",
   "metadata": {},
   "outputs": [
    {
     "data": {
      "text/plain": [
       "array([[-5.  , -4.99, -4.98, ...,  4.97,  4.98,  4.99],\n",
       "       [-5.  , -4.99, -4.98, ...,  4.97,  4.98,  4.99],\n",
       "       [-5.  , -4.99, -4.98, ...,  4.97,  4.98,  4.99],\n",
       "       ...,\n",
       "       [-5.  , -4.99, -4.98, ...,  4.97,  4.98,  4.99],\n",
       "       [-5.  , -4.99, -4.98, ...,  4.97,  4.98,  4.99],\n",
       "       [-5.  , -4.99, -4.98, ...,  4.97,  4.98,  4.99]])"
      ]
     },
     "execution_count": 4,
     "metadata": {},
     "output_type": "execute_result"
    }
   ],
   "source": [
    "xs"
   ]
  },
  {
   "cell_type": "code",
   "execution_count": 6,
   "id": "2bf57268",
   "metadata": {},
   "outputs": [
    {
     "data": {
      "text/plain": [
       "array([[7.07106781, 7.06400028, 7.05693985, ..., 7.04988652, 7.05693985,\n",
       "        7.06400028],\n",
       "       [7.06400028, 7.05692568, 7.04985815, ..., 7.04279774, 7.04985815,\n",
       "        7.05692568],\n",
       "       [7.05693985, 7.04985815, 7.04278354, ..., 7.03571603, 7.04278354,\n",
       "        7.04985815],\n",
       "       ...,\n",
       "       [7.04988652, 7.04279774, 7.03571603, ..., 7.0286414 , 7.03571603,\n",
       "        7.04279774],\n",
       "       [7.05693985, 7.04985815, 7.04278354, ..., 7.03571603, 7.04278354,\n",
       "        7.04985815],\n",
       "       [7.06400028, 7.05692568, 7.04985815, ..., 7.04279774, 7.04985815,\n",
       "        7.05692568]])"
      ]
     },
     "execution_count": 6,
     "metadata": {},
     "output_type": "execute_result"
    }
   ],
   "source": [
    "z = np.sqrt(xs ** 2 + ys ** 2)\n",
    "z"
   ]
  },
  {
   "cell_type": "code",
   "execution_count": 18,
   "id": "7071ce96",
   "metadata": {},
   "outputs": [
    {
     "data": {
      "text/plain": [
       "Text(0.5, 1.0, 'image plot of $\\\\sqrt{x^2 + y^2}$ for a grid of values')"
      ]
     },
     "execution_count": 18,
     "metadata": {},
     "output_type": "execute_result"
    },
    {
     "data": {
      "image/png": "[encoded data removed]",
      "text/plain": [
       "<Figure size 432x288 with 2 Axes>"
      ]
     },
     "metadata": {
      "needs_background": "light"
     },
     "output_type": "display_data"
    }
   ],
   "source": [
    "plt.imshow(z, cmap=plt.cm.gray); plt.colorbar()\n",
    "plt.title(\"image plot of $\\sqrt{x^2 + y^2}$ for a grid of values\")"
   ]
  },
  {
   "cell_type": "code",
   "execution_count": 19,
   "id": "a7378da8",
   "metadata": {},
   "outputs": [
    {
     "data": {
      "text/plain": [
       "array([1.1, 2.2, 1.3, 1.4, 2.5])"
      ]
     },
     "execution_count": 19,
     "metadata": {},
     "output_type": "execute_result"
    }
   ],
   "source": [
    "xarr = np.array([1.1,1.2,1.3,1.4,1.5])\n",
    "yarr = np.array([2.1,2.2,2.3,2.4,2.5])\n",
    "cond = np.array([True, False, True, True, False])\n",
    "\n",
    "result = np.where(cond,xarr,yarr)\n",
    "result\n",
    "# The second and third arguments to np.where don’t need to be arrays"
   ]
  },
  {
   "cell_type": "code",
   "execution_count": 20,
   "id": "e640eed7",
   "metadata": {},
   "outputs": [
    {
     "data": {
      "text/plain": [
       "array([[-0.32732902,  0.45988415, -0.20748143,  1.25111925],\n",
       "       [-0.27871777,  0.16267457,  0.49496223, -1.72601687],\n",
       "       [ 0.1593877 ,  0.13015154,  0.1795938 , -0.42727734],\n",
       "       [-0.06953822, -0.00563786, -0.02571448, -1.89620013]])"
      ]
     },
     "execution_count": 20,
     "metadata": {},
     "output_type": "execute_result"
    }
   ],
   "source": [
    "fila = np.random.randn(4,4)\n",
    "fila"
   ]
  },
  {
   "cell_type": "code",
   "execution_count": 21,
   "id": "670eba7b",
   "metadata": {},
   "outputs": [
    {
     "data": {
      "text/plain": [
       "array([[False,  True, False,  True],\n",
       "       [False,  True,  True, False],\n",
       "       [ True,  True,  True, False],\n",
       "       [False, False, False, False]])"
      ]
     },
     "execution_count": 21,
     "metadata": {},
     "output_type": "execute_result"
    }
   ],
   "source": [
    "fila > 0"
   ]
  },
  {
   "cell_type": "code",
   "execution_count": 22,
   "id": "0bc375c5",
   "metadata": {},
   "outputs": [
    {
     "data": {
      "text/plain": [
       "array([[-2,  2, -2,  2],\n",
       "       [-2,  2,  2, -2],\n",
       "       [ 2,  2,  2, -2],\n",
       "       [-2, -2, -2, -2]])"
      ]
     },
     "execution_count": 22,
     "metadata": {},
     "output_type": "execute_result"
    }
   ],
   "source": [
    "np.where(fila > 0, 2, -2) # se for maior q 0: primeiro argumento, senão: segundo argumento"
   ]
  },
  {
   "cell_type": "code",
   "execution_count": 23,
   "id": "0d212d08",
   "metadata": {},
   "outputs": [
    {
     "data": {
      "text/plain": [
       "array([[ 9.68416459e-01,  2.68970067e-01, -1.97546422e+00,\n",
       "        -8.54916684e-01],\n",
       "       [ 1.11533965e+00, -9.22998608e-01, -2.34240903e-03,\n",
       "         2.40544414e+00],\n",
       "       [-6.45364437e-01,  7.67603125e-01,  5.44137739e-01,\n",
       "         8.37363525e-02],\n",
       "       [ 3.54592767e-02,  3.34281140e-01, -5.10388104e-01,\n",
       "         1.19243897e-01],\n",
       "       [-3.03208143e-01, -2.27838469e-01,  1.01667877e+00,\n",
       "        -1.04134599e+00]])"
      ]
     },
     "execution_count": 23,
     "metadata": {},
     "output_type": "execute_result"
    }
   ],
   "source": [
    "fila = np.random.randn(5,4)\n",
    "fila"
   ]
  },
  {
   "cell_type": "code",
   "execution_count": 24,
   "id": "d8817f77",
   "metadata": {},
   "outputs": [
    {
     "data": {
      "text/plain": [
       "0.0587721771884922"
      ]
     },
     "execution_count": 24,
     "metadata": {},
     "output_type": "execute_result"
    }
   ],
   "source": [
    "np.mean(fila)\n",
    "# ou fila.mean()"
   ]
  },
  {
   "cell_type": "code",
   "execution_count": 26,
   "id": "2d86e5c0",
   "metadata": {},
   "outputs": [
    {
     "data": {
      "text/plain": [
       "1.175443543769844"
      ]
     },
     "execution_count": 26,
     "metadata": {},
     "output_type": "execute_result"
    }
   ],
   "source": [
    "# fila.sum()\n",
    "np.sum(fila)"
   ]
  },
  {
   "cell_type": "code",
   "execution_count": 34,
   "id": "7509391c",
   "metadata": {},
   "outputs": [
    {
     "name": "stdout",
     "output_type": "stream",
     "text": [
      "[ 0.23412856  0.04400345 -0.18547565  0.14243234]\n",
      "[-0.39824859  0.64886069  0.18752819 -0.00535095 -0.13892846]\n",
      "[ 1.1706428   0.22001725 -0.92737823  0.71216171]\n",
      "[-1.59299438  2.59544277  0.75011278 -0.02140379 -0.55571384]\n"
     ]
    }
   ],
   "source": [
    "print(fila.mean(axis= 0)) \n",
    "print(fila.mean(axis= 1)) # “compute mean across the columns”\n",
    "print(fila.sum(axis= 0)) # means “compute sum down the rows\n",
    "print(fila.sum(axis= 1))"
   ]
  },
  {
   "cell_type": "code",
   "execution_count": 36,
   "id": "e3785ae6",
   "metadata": {},
   "outputs": [
    {
     "data": {
      "text/plain": [
       "array([[0, 1, 2],\n",
       "       [3, 4, 5],\n",
       "       [6, 7, 8]])"
      ]
     },
     "execution_count": 36,
     "metadata": {},
     "output_type": "execute_result"
    }
   ],
   "source": [
    "fila  = np.array([[0,1,2],[3,4,5],[6,7,8]])\n",
    "fila"
   ]
  },
  {
   "cell_type": "code",
   "execution_count": 44,
   "id": "781af5dd",
   "metadata": {},
   "outputs": [
    {
     "name": "stdout",
     "output_type": "stream",
     "text": [
      "[[ 0  1  2]\n",
      " [ 0  4 10]\n",
      " [ 0 28 80]]\n",
      "###################\n",
      "[[  0   0   0]\n",
      " [  3  12  60]\n",
      " [  6  42 336]]\n",
      "###################\n",
      "[[ 0  1  2]\n",
      " [ 3  5  7]\n",
      " [ 9 12 15]]\n",
      "###################\n",
      "[[ 0  1  3]\n",
      " [ 3  7 12]\n",
      " [ 6 13 21]]\n"
     ]
    }
   ],
   "source": [
    "print(fila.cumprod(axis= 0)) #vertical\n",
    "print(\"###################\")\n",
    "print(fila.cumprod(axis= 1)) #horizontal\n",
    "print(\"###################\")\n",
    "print(fila.cumsum(axis= 0))\n",
    "print(\"###################\")\n",
    "print(fila.cumsum(axis=1))\n",
    "#cumsum Cumulative sum of elements starting from 0\n",
    "#cumprod Cumulative product of elements starting from 1\n"
   ]
  },
  {
   "cell_type": "code",
   "execution_count": 51,
   "id": "790b2ef5",
   "metadata": {},
   "outputs": [
    {
     "data": {
      "text/plain": [
       "array([ 0.82847898, -0.86164472,  0.00716526,  0.99442056, -0.60868599,\n",
       "       -0.06387059,  0.83665948,  0.7393465 , -0.56795005,  1.74319129,\n",
       "       -2.66974779, -2.61756836,  0.35220998, -0.42117454, -0.37752302,\n",
       "        0.82440298, -0.82625011,  0.01393481,  0.45686382,  0.64205666,\n",
       "        2.16332785,  0.82310344,  1.08405286,  0.26566569,  0.40441116,\n",
       "       -1.14759186,  0.08916377,  0.26249755, -1.72091425,  0.29484497,\n",
       "        0.34756974,  1.4937306 ,  0.76345567, -0.10415076, -0.71197449,\n",
       "        0.02863555, -0.01518742, -2.33443385,  1.19120663,  0.73355371,\n",
       "       -0.65268245,  1.57666726,  0.22994972, -0.72456345, -0.17565765,\n",
       "       -0.28278077, -0.87968343, -0.73718218,  0.0296829 ,  0.85742694,\n",
       "       -0.84696456, -0.6625293 , -1.05369345, -1.90160658,  1.10554312,\n",
       "        1.57890084, -0.19286884, -0.96081226,  2.22162296, -0.44608838,\n",
       "        0.36758248,  1.93910992,  0.84887757,  0.68319041, -1.83701085,\n",
       "        0.08540002,  1.3497723 ,  0.50287095,  0.93177202,  0.15815648,\n",
       "       -0.44597177, -0.22520935,  1.16559367,  2.64070572, -0.33267184,\n",
       "        0.48484359,  1.20940999,  1.52015425,  0.26927031, -0.13937558,\n",
       "        0.97898956, -0.4869026 , -0.52416659,  0.22588463,  0.03657819,\n",
       "        1.68249046,  0.22337132,  0.2812137 , -1.86153392, -0.18755535,\n",
       "       -0.76870119,  0.32669924, -1.32014504, -0.11830912,  0.15239122,\n",
       "       -1.26170708,  0.79209069,  0.33275361, -0.03598668,  0.67941969])"
      ]
     },
     "execution_count": 51,
     "metadata": {},
     "output_type": "execute_result"
    }
   ],
   "source": [
    "fila = np.random.randn(100)\n",
    "fila"
   ]
  },
  {
   "cell_type": "code",
   "execution_count": 52,
   "id": "25b9d8d6",
   "metadata": {},
   "outputs": [
    {
     "data": {
      "text/plain": [
       "58"
      ]
     },
     "execution_count": 52,
     "metadata": {},
     "output_type": "execute_result"
    }
   ],
   "source": [
    "(fila > 0 ).sum()"
   ]
  },
  {
   "cell_type": "code",
   "execution_count": 56,
   "id": "156d897b",
   "metadata": {},
   "outputs": [
    {
     "name": "stdout",
     "output_type": "stream",
     "text": [
      "True\n",
      "False\n"
     ]
    }
   ],
   "source": [
    "fila_bool = np.array([False, False, True, False])\n",
    "print(fila_bool.any())\n",
    "print(fila_bool.all())"
   ]
  },
  {
   "cell_type": "code",
   "execution_count": null,
   "id": "177f1949",
   "metadata": {},
   "outputs": [],
   "source": []
  }
 ],
 "metadata": {
  "kernelspec": {
   "display_name": "Python 3 (ipykernel)",
   "language": "python",
   "name": "python3"
  },
  "language_info": {
   "codemirror_mode": {
    "name": "ipython",
    "version": 3
   },
   "file_extension": ".py",
   "mimetype": "text/x-python",
   "name": "python",
   "nbconvert_exporter": "python",
   "pygments_lexer": "ipython3",
   "version": "3.9.7"
  }
 },
 "nbformat": 4,
 "nbformat_minor": 5
}
