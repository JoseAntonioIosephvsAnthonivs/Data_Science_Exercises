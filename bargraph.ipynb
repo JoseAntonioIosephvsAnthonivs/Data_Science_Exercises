{
 "cells": [
  {
   "cell_type": "markdown",
   "id": "34ec1d97",
   "metadata": {},
   "source": [
    "#### Build a bar graph"
   ]
  },
  {
   "cell_type": "code",
   "execution_count": null,
   "id": "c458c156",
   "metadata": {},
   "outputs": [],
   "source": [
    "import matplotlib.pyplot as plt"
   ]
  },
  {
   "cell_type": "code",
   "execution_count": 3,
   "id": "e755bc2d",
   "metadata": {},
   "outputs": [
    {
     "data": {
      "image/png": "[encoded data removed]",
      "text/plain": [
       "<Figure size 432x288 with 1 Axes>"
      ]
     },
     "metadata": {
      "needs_background": "light"
     },
     "output_type": "display_data"
    }
   ],
   "source": [
    "x1 = [1,3,5,7,9]\n",
    "y1 = [2,3,7,1,0]\n",
    "\n",
    "x2 = [2,4,6,8,10]\n",
    "y2 = [5,1,3,7,4]\n",
    "\n",
    "titulo = \"Bar Graph\"\n",
    "eixox = \"Eixo X\"\n",
    "eixoy = \"Eixo Y\"\n",
    "\n",
    "#titulo\n",
    "plt.title(titulo)\n",
    "plt.xlabel(eixox)\n",
    "plt.ylabel(eixoy)\n",
    "\n",
    "#tipo de gráfico\n",
    "plt.bar(x1, y1, label =\"Group 1\")\n",
    "plt.bar(x2, y2, label = \"Group 2\")\n",
    "\n",
    "#legenda\n",
    "plt.legend()\n",
    "\n",
    "plt.show()"
   ]
  },
  {
   "cell_type": "code",
   "execution_count": null,
   "id": "b7130744",
   "metadata": {},
   "outputs": [],
   "source": []
  }
 ],
 "metadata": {
  "kernelspec": {
   "display_name": "Python 3 (ipykernel)",
   "language": "python",
   "name": "python3"
  },
  "language_info": {
   "codemirror_mode": {
    "name": "ipython",
    "version": 3
   },
   "file_extension": ".py",
   "mimetype": "text/x-python",
   "name": "python",
   "nbconvert_exporter": "python",
   "pygments_lexer": "ipython3",
   "version": "3.9.7"
  }
 },
 "nbformat": 4,
 "nbformat_minor": 5
}
