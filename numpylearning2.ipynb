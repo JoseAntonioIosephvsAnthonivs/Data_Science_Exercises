{
 "cells": [
  {
   "cell_type": "code",
   "execution_count": 1,
   "id": "2ee20151",
   "metadata": {},
   "outputs": [],
   "source": [
    "import numpy as np"
   ]
  },
  {
   "cell_type": "code",
   "execution_count": 2,
   "id": "98d19bf0",
   "metadata": {},
   "outputs": [
    {
     "data": {
      "text/plain": [
       "array([1, 2, 3, 4, 5, 6])"
      ]
     },
     "execution_count": 2,
     "metadata": {},
     "output_type": "execute_result"
    }
   ],
   "source": [
    "zzz = np.array([1,2,3,4,5,6])\n",
    "zzz"
   ]
  },
  {
   "cell_type": "code",
   "execution_count": 8,
   "id": "4b9a0995",
   "metadata": {},
   "outputs": [
    {
     "data": {
      "text/plain": [
       "array([[[ 0,  1,  2,  3],\n",
       "        [ 4,  5,  6,  7]],\n",
       "\n",
       "       [[ 8,  9, 10, 11],\n",
       "        [12, 13, 14, 15]]])"
      ]
     },
     "execution_count": 8,
     "metadata": {},
     "output_type": "execute_result"
    }
   ],
   "source": [
    "yyy = np.arange(16).reshape((2,2,4))\n",
    "yyy"
   ]
  },
  {
   "cell_type": "code",
   "execution_count": 9,
   "id": "85186636",
   "metadata": {},
   "outputs": [
    {
     "data": {
      "text/plain": [
       "array([[[ 0,  1,  2,  3],\n",
       "        [ 4,  5,  6,  7]],\n",
       "\n",
       "       [[ 8,  9, 10, 11],\n",
       "        [12, 13, 14, 15]]])"
      ]
     },
     "execution_count": 9,
     "metadata": {},
     "output_type": "execute_result"
    }
   ],
   "source": [
    "yyy.transpose((1,0,2))\n",
    "yyy"
   ]
  },
  {
   "cell_type": "code",
   "execution_count": 11,
   "id": "737cf552",
   "metadata": {},
   "outputs": [
    {
     "data": {
      "text/plain": [
       "array([[[ 0,  1,  2,  3],\n",
       "        [ 4,  5,  6,  7]],\n",
       "\n",
       "       [[ 8,  9, 10, 11],\n",
       "        [12, 13, 14, 15]]])"
      ]
     },
     "execution_count": 11,
     "metadata": {},
     "output_type": "execute_result"
    }
   ],
   "source": [
    "yyy.swapaxes(1,2)\n",
    "yyy"
   ]
  },
  {
   "cell_type": "code",
   "execution_count": 17,
   "id": "a238ced8",
   "metadata": {},
   "outputs": [
    {
     "data": {
      "text/plain": [
       "array([0.        , 1.        , 1.41421356, 1.73205081, 2.        ,\n",
       "       2.23606798, 2.44948974, 2.64575131, 2.82842712, 3.        ,\n",
       "       3.16227766])"
      ]
     },
     "execution_count": 17,
     "metadata": {},
     "output_type": "execute_result"
    }
   ],
   "source": [
    "zzz = np.arange(11)\n",
    "np.sqrt(zzz)"
   ]
  },
  {
   "cell_type": "code",
   "execution_count": 18,
   "id": "9d927fdc",
   "metadata": {},
   "outputs": [
    {
     "data": {
      "text/plain": [
       "array([1.00000000e+00, 2.71828183e+00, 7.38905610e+00, 2.00855369e+01,\n",
       "       5.45981500e+01, 1.48413159e+02, 4.03428793e+02, 1.09663316e+03,\n",
       "       2.98095799e+03, 8.10308393e+03, 2.20264658e+04])"
      ]
     },
     "execution_count": 18,
     "metadata": {},
     "output_type": "execute_result"
    }
   ],
   "source": [
    "np.exp(zzz)"
   ]
  },
  {
   "cell_type": "code",
   "execution_count": 27,
   "id": "ac48f7a2",
   "metadata": {},
   "outputs": [
    {
     "data": {
      "text/plain": [
       "95"
      ]
     },
     "execution_count": 27,
     "metadata": {},
     "output_type": "execute_result"
    }
   ],
   "source": [
    "z = np.random.randint(100)\n",
    "z"
   ]
  },
  {
   "cell_type": "code",
   "execution_count": 28,
   "id": "427cc7e0",
   "metadata": {},
   "outputs": [
    {
     "data": {
      "text/plain": [
       "19"
      ]
     },
     "execution_count": 28,
     "metadata": {},
     "output_type": "execute_result"
    }
   ],
   "source": [
    "y = np.random.randint(100)\n",
    "y"
   ]
  },
  {
   "cell_type": "code",
   "execution_count": 29,
   "id": "f9ef93ce",
   "metadata": {},
   "outputs": [
    {
     "data": {
      "text/plain": [
       "95"
      ]
     },
     "execution_count": 29,
     "metadata": {},
     "output_type": "execute_result"
    }
   ],
   "source": [
    "np.maximum(z,y)"
   ]
  },
  {
   "cell_type": "code",
   "execution_count": 43,
   "id": "c3c7ff78",
   "metadata": {},
   "outputs": [
    {
     "data": {
      "text/plain": [
       "array([  1.69943894,   4.40665093,   7.13606603,   0.18352369,\n",
       "       -10.88106143,   1.06067669,  -6.00945583,  -4.82848867,\n",
       "       -12.45372448, -11.10683197])"
      ]
     },
     "execution_count": 43,
     "metadata": {},
     "output_type": "execute_result"
    }
   ],
   "source": [
    "zzz = np.random.randn(10) * 8\n",
    "zzz"
   ]
  },
  {
   "cell_type": "code",
   "execution_count": 44,
   "id": "1ad3da07",
   "metadata": {},
   "outputs": [],
   "source": [
    "remainder, whole_part = np.modf(zzz)"
   ]
  },
  {
   "cell_type": "code",
   "execution_count": 45,
   "id": "30c6110d",
   "metadata": {},
   "outputs": [
    {
     "data": {
      "text/plain": [
       "array([ 0.69943894,  0.40665093,  0.13606603,  0.18352369, -0.88106143,\n",
       "        0.06067669, -0.00945583, -0.82848867, -0.45372448, -0.10683197])"
      ]
     },
     "execution_count": 45,
     "metadata": {},
     "output_type": "execute_result"
    }
   ],
   "source": [
    "remainder"
   ]
  },
  {
   "cell_type": "code",
   "execution_count": 46,
   "id": "8ab2a9d9",
   "metadata": {},
   "outputs": [
    {
     "data": {
      "text/plain": [
       "array([  1.,   4.,   7.,   0., -10.,   1.,  -6.,  -4., -12., -11.])"
      ]
     },
     "execution_count": 46,
     "metadata": {},
     "output_type": "execute_result"
    }
   ],
   "source": [
    "whole_part"
   ]
  },
  {
   "cell_type": "code",
   "execution_count": 47,
   "id": "78543761",
   "metadata": {},
   "outputs": [
    {
     "data": {
      "text/plain": [
       "array([  1.69943894,   4.40665093,   7.13606603,   0.18352369,\n",
       "       -10.88106143,   1.06067669,  -6.00945583,  -4.82848867,\n",
       "       -12.45372448, -11.10683197])"
      ]
     },
     "execution_count": 47,
     "metadata": {},
     "output_type": "execute_result"
    }
   ],
   "source": [
    "zzz"
   ]
  },
  {
   "cell_type": "code",
   "execution_count": 48,
   "id": "f950c13b",
   "metadata": {},
   "outputs": [
    {
     "name": "stderr",
     "output_type": "stream",
     "text": [
      "C:\\Users\\jojos\\AppData\\Local\\Temp\\ipykernel_6612\\1441180435.py:1: RuntimeWarning: invalid value encountered in sqrt\n",
      "  np.sqrt(zzz)\n"
     ]
    },
    {
     "data": {
      "text/plain": [
       "array([1.30362531, 2.09920245, 2.67134162, 0.42839665,        nan,\n",
       "       1.02989159,        nan,        nan,        nan,        nan])"
      ]
     },
     "execution_count": 48,
     "metadata": {},
     "output_type": "execute_result"
    }
   ],
   "source": [
    "np.sqrt(zzz)"
   ]
  },
  {
   "cell_type": "code",
   "execution_count": 49,
   "id": "b78a80b4",
   "metadata": {},
   "outputs": [
    {
     "name": "stderr",
     "output_type": "stream",
     "text": [
      "C:\\Users\\jojos\\AppData\\Local\\Temp\\ipykernel_6612\\2851518010.py:1: RuntimeWarning: invalid value encountered in sqrt\n",
      "  np.sqrt(zzz,zzz)\n"
     ]
    },
    {
     "data": {
      "text/plain": [
       "array([1.30362531, 2.09920245, 2.67134162, 0.42839665,        nan,\n",
       "       1.02989159,        nan,        nan,        nan,        nan])"
      ]
     },
     "execution_count": 49,
     "metadata": {},
     "output_type": "execute_result"
    }
   ],
   "source": [
    "np.sqrt(zzz,zzz)"
   ]
  },
  {
   "cell_type": "code",
   "execution_count": null,
   "id": "b5d4bc9e",
   "metadata": {},
   "outputs": [],
   "source": []
  }
 ],
 "metadata": {
  "kernelspec": {
   "display_name": "Python 3 (ipykernel)",
   "language": "python",
   "name": "python3"
  },
  "language_info": {
   "codemirror_mode": {
    "name": "ipython",
    "version": 3
   },
   "file_extension": ".py",
   "mimetype": "text/x-python",
   "name": "python",
   "nbconvert_exporter": "python",
   "pygments_lexer": "ipython3",
   "version": "3.9.7"
  }
 },
 "nbformat": 4,
 "nbformat_minor": 5
}
