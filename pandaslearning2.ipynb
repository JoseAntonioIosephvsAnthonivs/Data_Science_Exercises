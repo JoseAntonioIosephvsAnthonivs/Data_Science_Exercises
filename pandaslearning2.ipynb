{
 "cells": [
  {
   "cell_type": "code",
   "execution_count": 1,
   "id": "d0799778",
   "metadata": {},
   "outputs": [],
   "source": [
    "import numpy as np\n",
    "import pandas as pd"
   ]
  },
  {
   "cell_type": "code",
   "execution_count": 2,
   "id": "f9cff77d",
   "metadata": {},
   "outputs": [],
   "source": [
    "zzz = pd.Series(range (3), index= ['a', 'b', 'c'])"
   ]
  },
  {
   "cell_type": "code",
   "execution_count": 3,
   "id": "5ea5f43c",
   "metadata": {},
   "outputs": [],
   "source": [
    "index = zzz.index"
   ]
  },
  {
   "cell_type": "code",
   "execution_count": 9,
   "id": "94c25a2a",
   "metadata": {},
   "outputs": [
    {
     "data": {
      "text/plain": [
       "Int64Index([0, 1, 2], dtype='int64')"
      ]
     },
     "execution_count": 9,
     "metadata": {},
     "output_type": "execute_result"
    }
   ],
   "source": [
    "labels = pd.Index(np.arange(3))\n",
    "labels"
   ]
  },
  {
   "cell_type": "code",
   "execution_count": 10,
   "id": "266e98b7",
   "metadata": {},
   "outputs": [
    {
     "data": {
      "text/plain": [
       "0    1.5\n",
       "1   -2.5\n",
       "2    0.0\n",
       "dtype: float64"
      ]
     },
     "execution_count": 10,
     "metadata": {},
     "output_type": "execute_result"
    }
   ],
   "source": [
    "zzz2 = pd.Series([1.5, -2.5, 0], index=labels)\n",
    "zzz2"
   ]
  },
  {
   "cell_type": "code",
   "execution_count": 11,
   "id": "052680a0",
   "metadata": {},
   "outputs": [
    {
     "data": {
      "text/plain": [
       "True"
      ]
     },
     "execution_count": 11,
     "metadata": {},
     "output_type": "execute_result"
    }
   ],
   "source": [
    "zzz2.index is labels"
   ]
  },
  {
   "cell_type": "markdown",
   "id": "c143f7f3",
   "metadata": {},
   "source": [
    "### Creating a new index"
   ]
  },
  {
   "cell_type": "code",
   "execution_count": 13,
   "id": "99b0a070",
   "metadata": {},
   "outputs": [
    {
     "data": {
      "text/plain": [
       "d    4.5\n",
       "b    7.2\n",
       "a   -5.3\n",
       "c    3.6\n",
       "dtype: float64"
      ]
     },
     "execution_count": 13,
     "metadata": {},
     "output_type": "execute_result"
    }
   ],
   "source": [
    "zzz = pd.Series([4.5, 7.2, -5.3, 3.6], index = ['d', 'b', 'a', 'c'])\n",
    "zzz"
   ]
  },
  {
   "cell_type": "code",
   "execution_count": 14,
   "id": "a6d16a0f",
   "metadata": {},
   "outputs": [
    {
     "data": {
      "text/plain": [
       "a   -5.3\n",
       "b    7.2\n",
       "c    3.6\n",
       "d    4.5\n",
       "e    NaN\n",
       "dtype: float64"
      ]
     },
     "execution_count": 14,
     "metadata": {},
     "output_type": "execute_result"
    }
   ],
   "source": [
    "zzz2 = zzz.reindex(['a','b', 'c', 'd', 'e'])\n",
    "zzz2"
   ]
  },
  {
   "cell_type": "code",
   "execution_count": 15,
   "id": "0cffd2dd",
   "metadata": {},
   "outputs": [
    {
     "data": {
      "text/plain": [
       "0    crocodile\n",
       "1        snake\n",
       "2       lizard\n",
       "dtype: object"
      ]
     },
     "execution_count": 15,
     "metadata": {},
     "output_type": "execute_result"
    }
   ],
   "source": [
    "reptiles = pd.Series(['crocodile', 'snake', 'lizard'], index =[0,1,2])\n",
    "reptiles"
   ]
  },
  {
   "cell_type": "code",
   "execution_count": 18,
   "id": "f22939db",
   "metadata": {},
   "outputs": [
    {
     "ename": "SyntaxError",
     "evalue": "unexpected EOF while parsing (3837667207.py, line 1)",
     "output_type": "error",
     "traceback": [
      "\u001b[1;36m  Input \u001b[1;32mIn [18]\u001b[1;36m\u001b[0m\n\u001b[1;33m    reptile = pd.DataFrame(np.arange(9).reshape((3, 3)),index=['a', 'c', 'd'],columns=['Srenake', 'Lizard', 'Crocodile']\u001b[0m\n\u001b[1;37m                                                                                                                        ^\u001b[0m\n\u001b[1;31mSyntaxError\u001b[0m\u001b[1;31m:\u001b[0m unexpected EOF while parsing\n"
     ]
    }
   ],
   "source": [
    "reptile = pd.DataFrame(np.arange(9).reshape((3, 3)),index=['a', 'c', 'd'],columns=['Snake', 'Lizard', 'Crocodile']"
   ]
  },
  {
   "cell_type": "code",
   "execution_count": null,
   "id": "8f400e13",
   "metadata": {},
   "outputs": [],
   "source": []
  }
 ],
 "metadata": {
  "kernelspec": {
   "display_name": "Python 3 (ipykernel)",
   "language": "python",
   "name": "python3"
  },
  "language_info": {
   "codemirror_mode": {
    "name": "ipython",
    "version": 3
   },
   "file_extension": ".py",
   "mimetype": "text/x-python",
   "name": "python",
   "nbconvert_exporter": "python",
   "pygments_lexer": "ipython3",
   "version": "3.9.7"
  }
 },
 "nbformat": 4,
 "nbformat_minor": 5
}
