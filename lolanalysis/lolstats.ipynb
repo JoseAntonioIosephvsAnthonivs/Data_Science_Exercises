{
 "cells": [
  {
   "cell_type": "markdown",
   "id": "9344eb06",
   "metadata": {},
   "source": [
    "### LOL Analysis"
   ]
  },
  {
   "cell_type": "code",
   "execution_count": 2,
   "id": "d82e8fc0",
   "metadata": {},
   "outputs": [],
   "source": [
    "import numpy as np\n",
    "import pandas as pd\n",
    "import matplotlib.pyplot as plt\n",
    "import seaborn as sns\n",
    "#import necessary libaries"
   ]
  },
  {
   "cell_type": "code",
   "execution_count": 3,
   "id": "f67a2910",
   "metadata": {},
   "outputs": [],
   "source": [
    "lol = pd.read_csv('ALL_REGIONS.CSV')\n",
    "#reading csv"
   ]
  },
  {
   "cell_type": "code",
   "execution_count": 4,
   "id": "7eed93bd",
   "metadata": {},
   "outputs": [
    {
     "data": {
      "text/html": [
       "<div>\n",
       "<style scoped>\n",
       "    .dataframe tbody tr th:only-of-type {\n",
       "        vertical-align: middle;\n",
       "    }\n",
       "\n",
       "    .dataframe tbody tr th {\n",
       "        vertical-align: top;\n",
       "    }\n",
       "\n",
       "    .dataframe thead th {\n",
       "        text-align: right;\n",
       "    }\n",
       "</style>\n",
       "<table border=\"1\" class=\"dataframe\">\n",
       "  <thead>\n",
       "    <tr style=\"text-align: right;\">\n",
       "      <th></th>\n",
       "      <th>Unnamed: 0</th>\n",
       "      <th>summonerId</th>\n",
       "      <th>summonerName</th>\n",
       "      <th>leaguePoints</th>\n",
       "      <th>rank</th>\n",
       "      <th>region</th>\n",
       "      <th>championId</th>\n",
       "      <th>mainChampion</th>\n",
       "      <th>championType</th>\n",
       "    </tr>\n",
       "  </thead>\n",
       "  <tbody>\n",
       "    <tr>\n",
       "      <th>0</th>\n",
       "      <td>0</td>\n",
       "      <td>eUAem_YIulMFpQ4OE8YGfmFi5hMrLOu5ZausZgzvXHFRXu8</td>\n",
       "      <td>Nick link</td>\n",
       "      <td>1873</td>\n",
       "      <td>I</td>\n",
       "      <td>BR1</td>\n",
       "      <td>24</td>\n",
       "      <td>Jax</td>\n",
       "      <td>Fighter</td>\n",
       "    </tr>\n",
       "    <tr>\n",
       "      <th>1</th>\n",
       "      <td>1</td>\n",
       "      <td>9AJ5yvWsinzJtQzDgTUCEbuxOUsRlwKmSGOIipaVJaQ6xX...</td>\n",
       "      <td>hidanvs1</td>\n",
       "      <td>1812</td>\n",
       "      <td>I</td>\n",
       "      <td>BR1</td>\n",
       "      <td>126</td>\n",
       "      <td>Jayce</td>\n",
       "      <td>Fighter</td>\n",
       "    </tr>\n",
       "    <tr>\n",
       "      <th>2</th>\n",
       "      <td>2</td>\n",
       "      <td>KuUrlLtNgu0rHFekube8sOVtowEKoK4bKGfnsif0WKWEGw</td>\n",
       "      <td>Morttheusz</td>\n",
       "      <td>1786</td>\n",
       "      <td>I</td>\n",
       "      <td>BR1</td>\n",
       "      <td>81</td>\n",
       "      <td>Ezreal</td>\n",
       "      <td>Marksman</td>\n",
       "    </tr>\n",
       "    <tr>\n",
       "      <th>3</th>\n",
       "      <td>3</td>\n",
       "      <td>ckewCLrxG1msVOxaGN0mXykk-v66iOiq5U33GkTxzM5kHw</td>\n",
       "      <td>QUINDINHO</td>\n",
       "      <td>1719</td>\n",
       "      <td>I</td>\n",
       "      <td>BR1</td>\n",
       "      <td>55</td>\n",
       "      <td>Katarina</td>\n",
       "      <td>Assassin</td>\n",
       "    </tr>\n",
       "    <tr>\n",
       "      <th>4</th>\n",
       "      <td>4</td>\n",
       "      <td>UoG1L5AHUuiDc9dBCFKIH4nCVnvjRVED63pYLAkrk4ze</td>\n",
       "      <td>SSG Corëjj</td>\n",
       "      <td>1663</td>\n",
       "      <td>I</td>\n",
       "      <td>BR1</td>\n",
       "      <td>888</td>\n",
       "      <td>Renata</td>\n",
       "      <td>Support</td>\n",
       "    </tr>\n",
       "  </tbody>\n",
       "</table>\n",
       "</div>"
      ],
      "text/plain": [
       "   Unnamed: 0                                         summonerId summonerName  \\\n",
       "0           0    eUAem_YIulMFpQ4OE8YGfmFi5hMrLOu5ZausZgzvXHFRXu8    Nick link   \n",
       "1           1  9AJ5yvWsinzJtQzDgTUCEbuxOUsRlwKmSGOIipaVJaQ6xX...     hidanvs1   \n",
       "2           2     KuUrlLtNgu0rHFekube8sOVtowEKoK4bKGfnsif0WKWEGw   Morttheusz   \n",
       "3           3     ckewCLrxG1msVOxaGN0mXykk-v66iOiq5U33GkTxzM5kHw    QUINDINHO   \n",
       "4           4       UoG1L5AHUuiDc9dBCFKIH4nCVnvjRVED63pYLAkrk4ze   SSG Corëjj   \n",
       "\n",
       "   leaguePoints rank region  championId mainChampion championType  \n",
       "0          1873    I    BR1          24          Jax      Fighter  \n",
       "1          1812    I    BR1         126        Jayce      Fighter  \n",
       "2          1786    I    BR1          81       Ezreal     Marksman  \n",
       "3          1719    I    BR1          55     Katarina     Assassin  \n",
       "4          1663    I    BR1         888       Renata      Support  "
      ]
     },
     "execution_count": 4,
     "metadata": {},
     "output_type": "execute_result"
    }
   ],
   "source": [
    "lol.head()"
   ]
  },
  {
   "cell_type": "code",
   "execution_count": 8,
   "id": "90a125bc",
   "metadata": {},
   "outputs": [
    {
     "name": "stdout",
     "output_type": "stream",
     "text": [
      "int64\n",
      "object\n",
      "object\n",
      "object\n"
     ]
    }
   ],
   "source": [
    "print(lol['leaguePoints'].dtype)\n",
    "print(lol['championType'].dtype)\n",
    "print(lol['summonerName'].dtype)\n",
    "print(lol['region'].dtype)"
   ]
  },
  {
   "cell_type": "code",
   "execution_count": 9,
   "id": "44ffdd13",
   "metadata": {},
   "outputs": [
    {
     "data": {
      "text/html": [
       "<div>\n",
       "<style scoped>\n",
       "    .dataframe tbody tr th:only-of-type {\n",
       "        vertical-align: middle;\n",
       "    }\n",
       "\n",
       "    .dataframe tbody tr th {\n",
       "        vertical-align: top;\n",
       "    }\n",
       "\n",
       "    .dataframe thead th {\n",
       "        text-align: right;\n",
       "    }\n",
       "</style>\n",
       "<table border=\"1\" class=\"dataframe\">\n",
       "  <thead>\n",
       "    <tr style=\"text-align: right;\">\n",
       "      <th></th>\n",
       "      <th>Unnamed: 0</th>\n",
       "      <th>leaguePoints</th>\n",
       "      <th>championId</th>\n",
       "    </tr>\n",
       "  </thead>\n",
       "  <tbody>\n",
       "    <tr>\n",
       "      <th>count</th>\n",
       "      <td>1993.000000</td>\n",
       "      <td>1993.000000</td>\n",
       "      <td>1993.000000</td>\n",
       "    </tr>\n",
       "    <tr>\n",
       "      <th>mean</th>\n",
       "      <td>996.000000</td>\n",
       "      <td>896.644255</td>\n",
       "      <td>154.797792</td>\n",
       "    </tr>\n",
       "    <tr>\n",
       "      <th>std</th>\n",
       "      <td>575.473863</td>\n",
       "      <td>220.980753</td>\n",
       "      <td>152.050525</td>\n",
       "    </tr>\n",
       "    <tr>\n",
       "      <th>min</th>\n",
       "      <td>0.000000</td>\n",
       "      <td>462.000000</td>\n",
       "      <td>1.000000</td>\n",
       "    </tr>\n",
       "    <tr>\n",
       "      <th>25%</th>\n",
       "      <td>498.000000</td>\n",
       "      <td>774.000000</td>\n",
       "      <td>64.000000</td>\n",
       "    </tr>\n",
       "    <tr>\n",
       "      <th>50%</th>\n",
       "      <td>996.000000</td>\n",
       "      <td>875.000000</td>\n",
       "      <td>104.000000</td>\n",
       "    </tr>\n",
       "    <tr>\n",
       "      <th>75%</th>\n",
       "      <td>1494.000000</td>\n",
       "      <td>1015.000000</td>\n",
       "      <td>166.000000</td>\n",
       "    </tr>\n",
       "    <tr>\n",
       "      <th>max</th>\n",
       "      <td>1992.000000</td>\n",
       "      <td>1873.000000</td>\n",
       "      <td>888.000000</td>\n",
       "    </tr>\n",
       "  </tbody>\n",
       "</table>\n",
       "</div>"
      ],
      "text/plain": [
       "        Unnamed: 0  leaguePoints   championId\n",
       "count  1993.000000   1993.000000  1993.000000\n",
       "mean    996.000000    896.644255   154.797792\n",
       "std     575.473863    220.980753   152.050525\n",
       "min       0.000000    462.000000     1.000000\n",
       "25%     498.000000    774.000000    64.000000\n",
       "50%     996.000000    875.000000   104.000000\n",
       "75%    1494.000000   1015.000000   166.000000\n",
       "max    1992.000000   1873.000000   888.000000"
      ]
     },
     "execution_count": 9,
     "metadata": {},
     "output_type": "execute_result"
    }
   ],
   "source": [
    "lol.describe()"
   ]
  },
  {
   "cell_type": "code",
   "execution_count": 26,
   "id": "53bf127a",
   "metadata": {},
   "outputs": [
    {
     "name": "stdout",
     "output_type": "stream",
     "text": [
      "896.6442548921224\n"
     ]
    }
   ],
   "source": [
    "leaguePoints = lol['leaguePoints'].mean()\n",
    "print(leaguePoints)"
   ]
  },
  {
   "cell_type": "code",
   "execution_count": 34,
   "id": "77ebea2a",
   "metadata": {},
   "outputs": [
    {
     "name": "stdout",
     "output_type": "stream",
     "text": [
      "top five players mean: 1770.6 pdls\n"
     ]
    }
   ],
   "source": [
    "head = lol.head()\n",
    "headleaguePoints = head['leaguePoints'].mean()\n",
    "print(f'top five players mean: {headleaguePoints} pdls' )"
   ]
  },
  {
   "cell_type": "code",
   "execution_count": null,
   "id": "3c98471b",
   "metadata": {},
   "outputs": [],
   "source": []
  }
 ],
 "metadata": {
  "kernelspec": {
   "display_name": "Python 3 (ipykernel)",
   "language": "python",
   "name": "python3"
  },
  "language_info": {
   "codemirror_mode": {
    "name": "ipython",
    "version": 3
   },
   "file_extension": ".py",
   "mimetype": "text/x-python",
   "name": "python",
   "nbconvert_exporter": "python",
   "pygments_lexer": "ipython3",
   "version": "3.9.7"
  }
 },
 "nbformat": 4,
 "nbformat_minor": 5
}
