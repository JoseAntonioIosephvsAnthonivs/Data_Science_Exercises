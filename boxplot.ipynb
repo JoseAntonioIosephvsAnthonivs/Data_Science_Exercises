{
 "cells": [
  {
   "cell_type": "markdown",
   "id": "8902c86b",
   "metadata": {},
   "source": [
    "#### Build a boxplot"
   ]
  },
  {
   "cell_type": "code",
   "execution_count": null,
   "id": "328cafb7",
   "metadata": {},
   "outputs": [],
   "source": [
    "import matplotlib.pyplot as plt\n",
    "import random"
   ]
  },
  {
   "cell_type": "code",
   "execution_count": 2,
   "id": "3cc7a6a0",
   "metadata": {},
   "outputs": [
    {
     "data": {
      "image/png": "[encoded data removed]",
      "text/plain": [
       "<Figure size 432x288 with 1 Axes>"
      ]
     },
     "metadata": {
      "needs_background": "light"
     },
     "output_type": "display_data"
    }
   ],
   "source": [
    "\n",
    "vetor = []\n",
    "\n",
    "for i in range(10):\n",
    "\tnumero_aleatorio = random.randint(0,10)\n",
    "\tvetor.append(numero_aleatorio)\n",
    "\n",
    "plt.boxplot(vetor)\n",
    "plt.title(\"Boxplot\")\n",
    "plt.show()"
   ]
  },
  {
   "cell_type": "code",
   "execution_count": null,
   "id": "83175967",
   "metadata": {},
   "outputs": [],
   "source": []
  }
 ],
 "metadata": {
  "kernelspec": {
   "display_name": "Python 3 (ipykernel)",
   "language": "python",
   "name": "python3"
  },
  "language_info": {
   "codemirror_mode": {
    "name": "ipython",
    "version": 3
   },
   "file_extension": ".py",
   "mimetype": "text/x-python",
   "name": "python",
   "nbconvert_exporter": "python",
   "pygments_lexer": "ipython3",
   "version": "3.9.7"
  }
 },
 "nbformat": 4,
 "nbformat_minor": 5
}
