{
 "cells": [
  {
   "cell_type": "markdown",
   "id": "66ec5e64",
   "metadata": {},
   "source": [
    "#### Build a box graph"
   ]
  },
  {
   "cell_type": "code",
   "execution_count": 1,
   "id": "e2374ce6",
   "metadata": {},
   "outputs": [],
   "source": [
    "import matplotlib.pyplot as plt"
   ]
  },
  {
   "cell_type": "code",
   "execution_count": 7,
   "id": "31718a10",
   "metadata": {},
   "outputs": [
    {
     "data": {
      "image/png": "[encoded data removed]",
      "text/plain": [
       "<Figure size 432x288 with 1 Axes>"
      ]
     },
     "metadata": {
      "needs_background": "light"
     },
     "output_type": "display_data"
    }
   ],
   "source": [
    "#parametros\n",
    "x = [1,3,5,7,9]\n",
    "y = [2,3,7,1,0]\n",
    " \n",
    "#titulo\n",
    "titulo = \"Scatter graph\"\n",
    "eixox = \"Eixo X\"\n",
    "eixoy = \"Eixo Y\"\n",
    " \n",
    "#legendas\n",
    "plt.title(titulo)\n",
    "plt.xlabel(eixox)\n",
    "plt.ylabel(eixoy)\n",
    " \n",
    "#tipo de grafico\n",
    "plt.scatter(x,y)\n",
    "\n",
    "#execução\n",
    "plt.show()"
   ]
  },
  {
   "cell_type": "code",
   "execution_count": null,
   "id": "2b9168f7",
   "metadata": {},
   "outputs": [],
   "source": []
  }
 ],
 "metadata": {
  "kernelspec": {
   "display_name": "Python 3 (ipykernel)",
   "language": "python",
   "name": "python3"
  },
  "language_info": {
   "codemirror_mode": {
    "name": "ipython",
    "version": 3
   },
   "file_extension": ".py",
   "mimetype": "text/x-python",
   "name": "python",
   "nbconvert_exporter": "python",
   "pygments_lexer": "ipython3",
   "version": "3.9.7"
  }
 },
 "nbformat": 4,
 "nbformat_minor": 5
}
