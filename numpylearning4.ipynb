{
 "cells": [
  {
   "cell_type": "code",
   "execution_count": 28,
   "id": "47e39f34",
   "metadata": {},
   "outputs": [],
   "source": [
    "import numpy as np\n",
    "import pandas as pd"
   ]
  },
  {
   "cell_type": "code",
   "execution_count": 29,
   "id": "d6a790b6",
   "metadata": {},
   "outputs": [
    {
     "data": {
      "text/plain": [
       "[1, 2, 3]"
      ]
     },
     "execution_count": 29,
     "metadata": {},
     "output_type": "execute_result"
    }
   ],
   "source": [
    "a = [1,2,3]\n",
    "np.array(a)\n",
    "a"
   ]
  },
  {
   "cell_type": "code",
   "execution_count": 30,
   "id": "e6eae14c",
   "metadata": {},
   "outputs": [
    {
     "data": {
      "text/plain": [
       "[[1, 2, 3], [4, 5, 6]]"
      ]
     },
     "execution_count": 30,
     "metadata": {},
     "output_type": "execute_result"
    }
   ],
   "source": [
    "a = [[1,2,3] ,[4,5,6]]\n",
    "np.array(a, dtype = np.float32)\n",
    "a"
   ]
  },
  {
   "cell_type": "code",
   "execution_count": 32,
   "id": "e1f97dba",
   "metadata": {},
   "outputs": [
    {
     "data": {
      "text/plain": [
       "array([[1., 0., 0.],\n",
       "       [0., 1., 0.],\n",
       "       [0., 0., 1.]])"
      ]
     },
     "execution_count": 32,
     "metadata": {},
     "output_type": "execute_result"
    }
   ],
   "source": [
    "np.eye(3)"
   ]
  },
  {
   "cell_type": "code",
   "execution_count": 33,
   "id": "4123fe62",
   "metadata": {},
   "outputs": [
    {
     "data": {
      "text/plain": [
       "array([8, 8, 3])"
      ]
     },
     "execution_count": 33,
     "metadata": {},
     "output_type": "execute_result"
    }
   ],
   "source": [
    "np.random.randint(low = 3, high= 9, size= 3)"
   ]
  },
  {
   "cell_type": "code",
   "execution_count": 34,
   "id": "a8ccbec2",
   "metadata": {},
   "outputs": [
    {
     "data": {
      "text/plain": [
       "array([0.48355796, 0.55006549, 0.93269745, 0.84790706])"
      ]
     },
     "execution_count": 34,
     "metadata": {},
     "output_type": "execute_result"
    }
   ],
   "source": [
    "np.random.random(size= 4)"
   ]
  },
  {
   "cell_type": "code",
   "execution_count": 35,
   "id": "22ca6b58",
   "metadata": {},
   "outputs": [
    {
     "data": {
      "text/plain": [
       "array([1, 2, 3, 4], dtype=int64)"
      ]
     },
     "execution_count": 35,
     "metadata": {},
     "output_type": "execute_result"
    }
   ],
   "source": [
    "s = pd.Series([1,2,3,4], name = \"col\")\n",
    "np.array(s)\n",
    "\n",
    "#Generate NumPy Array from a Pandas Series"
   ]
  },
  {
   "cell_type": "code",
   "execution_count": 39,
   "id": "f3685835",
   "metadata": {},
   "outputs": [
    {
     "data": {
      "text/plain": [
       "array([ 0,  1,  2,  3,  4,  5,  6,  7,  8,  9, 10, 11, 12, 13, 14, 15, 16,\n",
       "       17, 18, 19, 20, 21, 22, 23, 24, 25, 26, 27, 28, 29, 30, 31, 32, 33,\n",
       "       34, 35])"
      ]
     },
     "execution_count": 39,
     "metadata": {},
     "output_type": "execute_result"
    }
   ],
   "source": [
    "a = np.arange(36)\n",
    "a.reshape((6,6))\n",
    "a"
   ]
  },
  {
   "cell_type": "code",
   "execution_count": 47,
   "id": "021ee4ae",
   "metadata": {},
   "outputs": [
    {
     "name": "stdout",
     "output_type": "stream",
     "text": [
      "[[5 6 1 2]\n",
      " [7 8 3 4]]\n",
      "------------\n",
      "[[5 6]\n",
      " [7 8]\n",
      " [1 2]\n",
      " [3 4]]\n",
      "------------\n",
      "[5 6 7 8 <map object at 0x0000019C6BC7D5E0>]\n"
     ]
    }
   ],
   "source": [
    "z = np.array([[1,2],[3,4]])\n",
    "x = np.array([[5,6],[7,8]])\n",
    "print(np.concatenate((x,z), axis =1)) #horizontal = np.hstack()\n",
    "print('------------')\n",
    "print(np.concatenate((x,z), axis=0)) #vertical = np.vstack()\n",
    "print('------------')\n",
    "print(np.concatenate((x,y), axis=None))"
   ]
  },
  {
   "cell_type": "code",
   "execution_count": 49,
   "id": "778f91d6",
   "metadata": {},
   "outputs": [
    {
     "data": {
      "text/plain": [
       "array([1, 2, 3, 4, 8, 9])"
      ]
     },
     "execution_count": 49,
     "metadata": {},
     "output_type": "execute_result"
    }
   ],
   "source": [
    "a = np.array([1,2,3,4,1,4,2,3,8,9])\n",
    "np.unique(a)\n",
    "np.unique(a, axis =0) # rows\n",
    "np.unique(a, axis =1) # column"
   ]
  },
  {
   "cell_type": "markdown",
   "id": "2d56a53c",
   "metadata": {},
   "source": [
    "### Mathematical Operations"
   ]
  },
  {
   "cell_type": "code",
   "execution_count": 53,
   "id": "beab037a",
   "metadata": {},
   "outputs": [
    {
     "name": "stdout",
     "output_type": "stream",
     "text": [
      "Trigonometric Sine   : [-0.80115264]\n",
      "Trigonometric Cosine : [-0.59846007]\n",
      "Trigonometric Tangent: [1.33869021]\n"
     ]
    }
   ],
   "source": [
    "a = np.array([180])\n",
    "print(\"Trigonometric Sine   :\", np.sin(a))\n",
    "print(\"Trigonometric Cosine :\", np.cos(a))\n",
    "print(\"Trigonometric Tangent:\", np.tan(a))"
   ]
  },
  {
   "cell_type": "code",
   "execution_count": 60,
   "id": "4079f37e",
   "metadata": {},
   "outputs": [
    {
     "name": "stdout",
     "output_type": "stream",
     "text": [
      "[30.         34.44444444 38.88888889 43.33333333 47.77777778 52.22222222\n",
      " 56.66666667 61.11111111 65.55555556 70.        ]\n",
      "------------------\n",
      "[30. 34. 38. 43. 47. 52. 56. 61. 65. 70.]\n",
      "------------------\n",
      "[30. 35. 39. 44. 48. 53. 57. 62. 66. 70.]\n",
      "------------------\n",
      "[30. 34. 39. 43. 48. 52. 57. 61. 66. 70.]\n",
      "------------------\n",
      "[30.   34.44 38.89 43.33 47.78 52.22 56.67 61.11 65.56 70.  ]\n"
     ]
    }
   ],
   "source": [
    "z = np.linspace(30,70,10)\n",
    "print(z)\n",
    "print('------------------')\n",
    "print(np.floor(z))\n",
    "print('------------------')\n",
    "print(np.ceil(z))\n",
    "print('------------------')\n",
    "print(np.rint(z))\n",
    "print('------------------')\n",
    "print(np.round(z,2))\n"
   ]
  },
  {
   "cell_type": "code",
   "execution_count": 66,
   "id": "084da9cb",
   "metadata": {},
   "outputs": [
    {
     "name": "stdout",
     "output_type": "stream",
     "text": [
      "[ 2  3  4  5  6  7  8  9 10]\n",
      "--------------------------\n",
      "[7.390000e+00 2.009000e+01 5.460000e+01 1.484100e+02 4.034300e+02\n",
      " 1.096630e+03 2.980960e+03 8.103080e+03 2.202647e+04]\n",
      "--------------------------\n",
      "[0.69 1.1  1.39 1.61 1.79 1.95 2.08 2.2  2.3 ]\n"
     ]
    }
   ],
   "source": [
    "#Exponents and Logarithms\n",
    "z = np.arange(2,11)\n",
    "print(z)\n",
    "print('--------------------------')\n",
    "print(np.exp(z).round(2))\n",
    "print('--------------------------')\n",
    "print(np.log(z).round(2))\n",
    "\n",
    "\n",
    "\n"
   ]
  },
  {
   "cell_type": "code",
   "execution_count": 74,
   "id": "483b1f4f",
   "metadata": {},
   "outputs": [
    {
     "name": "stdout",
     "output_type": "stream",
     "text": [
      "21\n",
      "720\n",
      "26.83\n"
     ]
    }
   ],
   "source": [
    "#Sum product\n",
    "zz = np.array([1,2,3,4,5,6])\n",
    "print(np.sum(zz))\n",
    "zzz =  np.prod(zz)\n",
    "print(zzz)\n",
    "print(np.sqrt(zzz).round(2))"
   ]
  },
  {
   "cell_type": "markdown",
   "id": "4f48ca33",
   "metadata": {},
   "source": [
    "## Matrix and Vector Operator"
   ]
  },
  {
   "cell_type": "code",
   "execution_count": 76,
   "id": "663954ed",
   "metadata": {},
   "outputs": [
    {
     "data": {
      "text/plain": [
       "array([[11, 11],\n",
       "       [15, 15]])"
      ]
     },
     "execution_count": 76,
     "metadata": {},
     "output_type": "execute_result"
    }
   ],
   "source": [
    "#Dot product\n",
    "z = np.array([[1, 2], [3, 4]])\n",
    "y = np.array([[1, 1], [1, 1]])\n",
    "np.dot(x, y)"
   ]
  },
  {
   "cell_type": "code",
   "execution_count": 80,
   "id": "1864ff87",
   "metadata": {},
   "outputs": [
    {
     "name": "stdout",
     "output_type": "stream",
     "text": [
      "[[3 3]\n",
      " [7 7]]\n",
      "------------\n",
      "[[3 3]\n",
      " [7 7]]\n"
     ]
    }
   ],
   "source": [
    "#matrix product\n",
    "a = np.array([[1, 2], [3, 4]])\n",
    "b = np.array([[1, 1], [1, 1]])\n",
    "print(np.matmul(a, b))\n",
    "print(\"------------\")\n",
    "print(a@b)\n",
    " "
   ]
  },
  {
   "cell_type": "code",
   "execution_count": 82,
   "id": "afa19499",
   "metadata": {},
   "outputs": [
    {
     "name": "stdout",
     "output_type": "stream",
     "text": [
      "7.745966692414834\n",
      "________________\n",
      "20.0\n"
     ]
    }
   ],
   "source": [
    "#vector norm\n",
    "a = np.arange(-4, 5)\n",
    "print(np.linalg.norm(a))\n",
    "print('________________')\n",
    "print(np.linalg.norm(a, 1))"
   ]
  },
  {
   "cell_type": "markdown",
   "id": "d1464872",
   "metadata": {},
   "source": [
    "###  Searching Methods"
   ]
  },
  {
   "cell_type": "code",
   "execution_count": 90,
   "id": "d84d5bfb",
   "metadata": {},
   "outputs": [
    {
     "data": {
      "text/plain": [
       "array([0, 0, 1, 0, 9, 8, 0, 0, 9, 3])"
      ]
     },
     "execution_count": 90,
     "metadata": {},
     "output_type": "execute_result"
    }
   ],
   "source": [
    "z = np.random.randint(-10,10,10) \n",
    "\n",
    "np.where(z < 0, 0, z)\n",
    "#bigger than 0"
   ]
  },
  {
   "cell_type": "markdown",
   "id": "a1e075a2",
   "metadata": {},
   "source": [
    "### Statistical Methods"
   ]
  },
  {
   "cell_type": "code",
   "execution_count": 97,
   "id": "9bb34556",
   "metadata": {},
   "outputs": [
    {
     "name": "stdout",
     "output_type": "stream",
     "text": [
      "3.0\n",
      "[4.5 4.5 6.5]\n",
      "[2.         8.33333333]\n"
     ]
    }
   ],
   "source": [
    "#mean\n",
    "zzz = np.array([1,2,3,4,5])\n",
    "print(np.mean(zzz))\n",
    "xyz = np.array([[1,2,3], [8,7,10]])\n",
    "print(np.mean(xyz, axis =0))\n",
    "print(np.mean(xyz, axis =1))"
   ]
  },
  {
   "cell_type": "code",
   "execution_count": 100,
   "id": "9b8ceec7",
   "metadata": {},
   "outputs": [
    {
     "name": "stdout",
     "output_type": "stream",
     "text": [
      "3.0\n",
      "[4.5 4.5 6.5]\n",
      "[2. 8.]\n"
     ]
    }
   ],
   "source": [
    "#median\n",
    "print(np.median(zzz))\n",
    "print(np.median(xyz, axis =0))\n",
    "print(np.median(xyz, axis = 1))"
   ]
  },
  {
   "cell_type": "code",
   "execution_count": 103,
   "id": "27fa8830",
   "metadata": {},
   "outputs": [
    {
     "name": "stdout",
     "output_type": "stream",
     "text": [
      "1.118033988749895\n",
      "[0.5 0.5]\n",
      "[1. 1.]\n"
     ]
    }
   ],
   "source": [
    "#standard deviation\n",
    "a = np.array([[1, 2], [3, 4]])\n",
    "print(np.std(a))\n",
    "print(np.std(a, axis = 1))\n",
    "print(np.std(a, axis = 0))"
   ]
  },
  {
   "cell_type": "code",
   "execution_count": null,
   "id": "c2fe6b10",
   "metadata": {},
   "outputs": [],
   "source": []
  }
 ],
 "metadata": {
  "kernelspec": {
   "display_name": "Python 3 (ipykernel)",
   "language": "python",
   "name": "python3"
  },
  "language_info": {
   "codemirror_mode": {
    "name": "ipython",
    "version": 3
   },
   "file_extension": ".py",
   "mimetype": "text/x-python",
   "name": "python",
   "nbconvert_exporter": "python",
   "pygments_lexer": "ipython3",
   "version": "3.9.7"
  }
 },
 "nbformat": 4,
 "nbformat_minor": 5
}
